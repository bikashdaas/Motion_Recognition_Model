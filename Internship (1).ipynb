{
  "nbformat": 4,
  "nbformat_minor": 0,
  "metadata": {
    "colab": {
      "provenance": [],
      "gpuType": "T4"
    },
    "kernelspec": {
      "name": "python3",
      "display_name": "Python 3"
    },
    "language_info": {
      "name": "python"
    },
    "accelerator": "GPU",
    "gpuClass": "standard"
  },
  "cells": [
    {
      "cell_type": "code",
      "execution_count": null,
      "metadata": {
        "id": "hlB1WzY90UUY"
      },
      "outputs": [],
      "source": [
        "!pip install --upgrade tensorflow\n",
        "!pip install --upgrade tensorflow-lite"
      ]
    },
    {
      "cell_type": "code",
      "source": [
        "import numpy as np\n",
        "import pandas as pd\n",
        "import tensorflow as tf\n",
        "from tensorflow import keras\n",
        "from keras import models,layers\n",
        "import matplotlib.pyplot as plt"
      ],
      "metadata": {
        "id": "pLouUjGq9rSz"
      },
      "execution_count": null,
      "outputs": []
    },
    {
      "cell_type": "code",
      "source": [
        "df = pd.read_csv('/content/completeBhageeraPayload.csv')"
      ],
      "metadata": {
        "id": "PEYbGEkR3LoG"
      },
      "execution_count": null,
      "outputs": []
    },
    {
      "cell_type": "code",
      "source": [
        "df.head(5)"
      ],
      "metadata": {
        "colab": {
          "base_uri": "https://localhost:8080/",
          "height": 206
        },
        "id": "q5nNwhDW3XWX",
        "outputId": "d1bd2ab1-320c-4d59-cf8e-35e951c6defc"
      },
      "execution_count": null,
      "outputs": [
        {
          "output_type": "execute_result",
          "data": {
            "text/plain": [
              "      mlid        ax        ay        az         gx         gy         gz\n",
              "0  Walking -0.430176  0.611572 -0.747803 -17.633587 -55.404579   4.854962\n",
              "1  Walking -0.600586  0.668945 -0.920898  10.916031  88.320610 -46.167938\n",
              "2  Walking -0.390137  0.568115 -0.972168 -23.702290   9.648855 -15.167939\n",
              "3  Walking -1.108887  0.886475 -0.582275  70.381676 -85.572517  47.000000\n",
              "4  Walking -0.442139  0.665039 -0.820068  44.259541 -87.793892  49.152672"
            ],
            "text/html": [
              "\n",
              "  <div id=\"df-98c74da4-f846-496f-875a-98ef179c3b2d\">\n",
              "    <div class=\"colab-df-container\">\n",
              "      <div>\n",
              "<style scoped>\n",
              "    .dataframe tbody tr th:only-of-type {\n",
              "        vertical-align: middle;\n",
              "    }\n",
              "\n",
              "    .dataframe tbody tr th {\n",
              "        vertical-align: top;\n",
              "    }\n",
              "\n",
              "    .dataframe thead th {\n",
              "        text-align: right;\n",
              "    }\n",
              "</style>\n",
              "<table border=\"1\" class=\"dataframe\">\n",
              "  <thead>\n",
              "    <tr style=\"text-align: right;\">\n",
              "      <th></th>\n",
              "      <th>mlid</th>\n",
              "      <th>ax</th>\n",
              "      <th>ay</th>\n",
              "      <th>az</th>\n",
              "      <th>gx</th>\n",
              "      <th>gy</th>\n",
              "      <th>gz</th>\n",
              "    </tr>\n",
              "  </thead>\n",
              "  <tbody>\n",
              "    <tr>\n",
              "      <th>0</th>\n",
              "      <td>Walking</td>\n",
              "      <td>-0.430176</td>\n",
              "      <td>0.611572</td>\n",
              "      <td>-0.747803</td>\n",
              "      <td>-17.633587</td>\n",
              "      <td>-55.404579</td>\n",
              "      <td>4.854962</td>\n",
              "    </tr>\n",
              "    <tr>\n",
              "      <th>1</th>\n",
              "      <td>Walking</td>\n",
              "      <td>-0.600586</td>\n",
              "      <td>0.668945</td>\n",
              "      <td>-0.920898</td>\n",
              "      <td>10.916031</td>\n",
              "      <td>88.320610</td>\n",
              "      <td>-46.167938</td>\n",
              "    </tr>\n",
              "    <tr>\n",
              "      <th>2</th>\n",
              "      <td>Walking</td>\n",
              "      <td>-0.390137</td>\n",
              "      <td>0.568115</td>\n",
              "      <td>-0.972168</td>\n",
              "      <td>-23.702290</td>\n",
              "      <td>9.648855</td>\n",
              "      <td>-15.167939</td>\n",
              "    </tr>\n",
              "    <tr>\n",
              "      <th>3</th>\n",
              "      <td>Walking</td>\n",
              "      <td>-1.108887</td>\n",
              "      <td>0.886475</td>\n",
              "      <td>-0.582275</td>\n",
              "      <td>70.381676</td>\n",
              "      <td>-85.572517</td>\n",
              "      <td>47.000000</td>\n",
              "    </tr>\n",
              "    <tr>\n",
              "      <th>4</th>\n",
              "      <td>Walking</td>\n",
              "      <td>-0.442139</td>\n",
              "      <td>0.665039</td>\n",
              "      <td>-0.820068</td>\n",
              "      <td>44.259541</td>\n",
              "      <td>-87.793892</td>\n",
              "      <td>49.152672</td>\n",
              "    </tr>\n",
              "  </tbody>\n",
              "</table>\n",
              "</div>\n",
              "      <button class=\"colab-df-convert\" onclick=\"convertToInteractive('df-98c74da4-f846-496f-875a-98ef179c3b2d')\"\n",
              "              title=\"Convert this dataframe to an interactive table.\"\n",
              "              style=\"display:none;\">\n",
              "        \n",
              "  <svg xmlns=\"http://www.w3.org/2000/svg\" height=\"24px\"viewBox=\"0 0 24 24\"\n",
              "       width=\"24px\">\n",
              "    <path d=\"M0 0h24v24H0V0z\" fill=\"none\"/>\n",
              "    <path d=\"M18.56 5.44l.94 2.06.94-2.06 2.06-.94-2.06-.94-.94-2.06-.94 2.06-2.06.94zm-11 1L8.5 8.5l.94-2.06 2.06-.94-2.06-.94L8.5 2.5l-.94 2.06-2.06.94zm10 10l.94 2.06.94-2.06 2.06-.94-2.06-.94-.94-2.06-.94 2.06-2.06.94z\"/><path d=\"M17.41 7.96l-1.37-1.37c-.4-.4-.92-.59-1.43-.59-.52 0-1.04.2-1.43.59L10.3 9.45l-7.72 7.72c-.78.78-.78 2.05 0 2.83L4 21.41c.39.39.9.59 1.41.59.51 0 1.02-.2 1.41-.59l7.78-7.78 2.81-2.81c.8-.78.8-2.07 0-2.86zM5.41 20L4 18.59l7.72-7.72 1.47 1.35L5.41 20z\"/>\n",
              "  </svg>\n",
              "      </button>\n",
              "      \n",
              "  <style>\n",
              "    .colab-df-container {\n",
              "      display:flex;\n",
              "      flex-wrap:wrap;\n",
              "      gap: 12px;\n",
              "    }\n",
              "\n",
              "    .colab-df-convert {\n",
              "      background-color: #E8F0FE;\n",
              "      border: none;\n",
              "      border-radius: 50%;\n",
              "      cursor: pointer;\n",
              "      display: none;\n",
              "      fill: #1967D2;\n",
              "      height: 32px;\n",
              "      padding: 0 0 0 0;\n",
              "      width: 32px;\n",
              "    }\n",
              "\n",
              "    .colab-df-convert:hover {\n",
              "      background-color: #E2EBFA;\n",
              "      box-shadow: 0px 1px 2px rgba(60, 64, 67, 0.3), 0px 1px 3px 1px rgba(60, 64, 67, 0.15);\n",
              "      fill: #174EA6;\n",
              "    }\n",
              "\n",
              "    [theme=dark] .colab-df-convert {\n",
              "      background-color: #3B4455;\n",
              "      fill: #D2E3FC;\n",
              "    }\n",
              "\n",
              "    [theme=dark] .colab-df-convert:hover {\n",
              "      background-color: #434B5C;\n",
              "      box-shadow: 0px 1px 3px 1px rgba(0, 0, 0, 0.15);\n",
              "      filter: drop-shadow(0px 1px 2px rgba(0, 0, 0, 0.3));\n",
              "      fill: #FFFFFF;\n",
              "    }\n",
              "  </style>\n",
              "\n",
              "      <script>\n",
              "        const buttonEl =\n",
              "          document.querySelector('#df-98c74da4-f846-496f-875a-98ef179c3b2d button.colab-df-convert');\n",
              "        buttonEl.style.display =\n",
              "          google.colab.kernel.accessAllowed ? 'block' : 'none';\n",
              "\n",
              "        async function convertToInteractive(key) {\n",
              "          const element = document.querySelector('#df-98c74da4-f846-496f-875a-98ef179c3b2d');\n",
              "          const dataTable =\n",
              "            await google.colab.kernel.invokeFunction('convertToInteractive',\n",
              "                                                     [key], {});\n",
              "          if (!dataTable) return;\n",
              "\n",
              "          const docLinkHtml = 'Like what you see? Visit the ' +\n",
              "            '<a target=\"_blank\" href=https://colab.research.google.com/notebooks/data_table.ipynb>data table notebook</a>'\n",
              "            + ' to learn more about interactive tables.';\n",
              "          element.innerHTML = '';\n",
              "          dataTable['output_type'] = 'display_data';\n",
              "          await google.colab.output.renderOutput(dataTable, element);\n",
              "          const docLink = document.createElement('div');\n",
              "          docLink.innerHTML = docLinkHtml;\n",
              "          element.appendChild(docLink);\n",
              "        }\n",
              "      </script>\n",
              "    </div>\n",
              "  </div>\n",
              "  "
            ]
          },
          "metadata": {},
          "execution_count": 7
        }
      ]
    },
    {
      "cell_type": "code",
      "source": [
        "df['mlid'].value_counts() #data is imbalanced"
      ],
      "metadata": {
        "colab": {
          "base_uri": "https://localhost:8080/"
        },
        "id": "HiiGNNTF3p53",
        "outputId": "cd830c92-e36f-422a-c47a-c0ec3808acc7"
      },
      "execution_count": null,
      "outputs": [
        {
          "output_type": "execute_result",
          "data": {
            "text/plain": [
              "Rest        8141\n",
              "Sleep       5753\n",
              "Walking     5241\n",
              "Running     3698\n",
              "Standing    1757\n",
              "Sitting      839\n",
              "Name: mlid, dtype: int64"
            ]
          },
          "metadata": {},
          "execution_count": 8
        }
      ]
    },
    {
      "cell_type": "code",
      "source": [
        "from sklearn.preprocessing import LabelEncoder\n",
        "yle = LabelEncoder()\n",
        "df['mlid'] = yle.fit_transform(df['mlid'])"
      ],
      "metadata": {
        "id": "OJMoXf_134Ed"
      },
      "execution_count": null,
      "outputs": []
    },
    {
      "cell_type": "code",
      "source": [
        "df['mlid'].value_counts() "
      ],
      "metadata": {
        "colab": {
          "base_uri": "https://localhost:8080/"
        },
        "id": "psZ4n8D14TnZ",
        "outputId": "b6b129c8-dfc0-4fec-c192-4afc16affc5d"
      },
      "execution_count": null,
      "outputs": [
        {
          "output_type": "execute_result",
          "data": {
            "text/plain": [
              "0    8141\n",
              "3    5753\n",
              "5    5241\n",
              "1    3698\n",
              "4    1757\n",
              "2     839\n",
              "Name: mlid, dtype: int64"
            ]
          },
          "metadata": {},
          "execution_count": 10
        }
      ]
    },
    {
      "cell_type": "code",
      "source": [
        "X = df.drop('mlid', axis =1)\n",
        "Y= df['mlid']"
      ],
      "metadata": {
        "id": "PndgNrNh4v0G"
      },
      "execution_count": null,
      "outputs": []
    },
    {
      "cell_type": "code",
      "source": [
        "X.head(5)"
      ],
      "metadata": {
        "colab": {
          "base_uri": "https://localhost:8080/",
          "height": 206
        },
        "id": "Z9cG-ZA749Za",
        "outputId": "06f6c19e-2949-47d9-e4e3-b79806778682"
      },
      "execution_count": null,
      "outputs": [
        {
          "output_type": "execute_result",
          "data": {
            "text/plain": [
              "         ax        ay        az         gx         gy         gz\n",
              "0 -0.430176  0.611572 -0.747803 -17.633587 -55.404579   4.854962\n",
              "1 -0.600586  0.668945 -0.920898  10.916031  88.320610 -46.167938\n",
              "2 -0.390137  0.568115 -0.972168 -23.702290   9.648855 -15.167939\n",
              "3 -1.108887  0.886475 -0.582275  70.381676 -85.572517  47.000000\n",
              "4 -0.442139  0.665039 -0.820068  44.259541 -87.793892  49.152672"
            ],
            "text/html": [
              "\n",
              "  <div id=\"df-4d1408db-b217-41e0-9ada-2a7af3b88896\">\n",
              "    <div class=\"colab-df-container\">\n",
              "      <div>\n",
              "<style scoped>\n",
              "    .dataframe tbody tr th:only-of-type {\n",
              "        vertical-align: middle;\n",
              "    }\n",
              "\n",
              "    .dataframe tbody tr th {\n",
              "        vertical-align: top;\n",
              "    }\n",
              "\n",
              "    .dataframe thead th {\n",
              "        text-align: right;\n",
              "    }\n",
              "</style>\n",
              "<table border=\"1\" class=\"dataframe\">\n",
              "  <thead>\n",
              "    <tr style=\"text-align: right;\">\n",
              "      <th></th>\n",
              "      <th>ax</th>\n",
              "      <th>ay</th>\n",
              "      <th>az</th>\n",
              "      <th>gx</th>\n",
              "      <th>gy</th>\n",
              "      <th>gz</th>\n",
              "    </tr>\n",
              "  </thead>\n",
              "  <tbody>\n",
              "    <tr>\n",
              "      <th>0</th>\n",
              "      <td>-0.430176</td>\n",
              "      <td>0.611572</td>\n",
              "      <td>-0.747803</td>\n",
              "      <td>-17.633587</td>\n",
              "      <td>-55.404579</td>\n",
              "      <td>4.854962</td>\n",
              "    </tr>\n",
              "    <tr>\n",
              "      <th>1</th>\n",
              "      <td>-0.600586</td>\n",
              "      <td>0.668945</td>\n",
              "      <td>-0.920898</td>\n",
              "      <td>10.916031</td>\n",
              "      <td>88.320610</td>\n",
              "      <td>-46.167938</td>\n",
              "    </tr>\n",
              "    <tr>\n",
              "      <th>2</th>\n",
              "      <td>-0.390137</td>\n",
              "      <td>0.568115</td>\n",
              "      <td>-0.972168</td>\n",
              "      <td>-23.702290</td>\n",
              "      <td>9.648855</td>\n",
              "      <td>-15.167939</td>\n",
              "    </tr>\n",
              "    <tr>\n",
              "      <th>3</th>\n",
              "      <td>-1.108887</td>\n",
              "      <td>0.886475</td>\n",
              "      <td>-0.582275</td>\n",
              "      <td>70.381676</td>\n",
              "      <td>-85.572517</td>\n",
              "      <td>47.000000</td>\n",
              "    </tr>\n",
              "    <tr>\n",
              "      <th>4</th>\n",
              "      <td>-0.442139</td>\n",
              "      <td>0.665039</td>\n",
              "      <td>-0.820068</td>\n",
              "      <td>44.259541</td>\n",
              "      <td>-87.793892</td>\n",
              "      <td>49.152672</td>\n",
              "    </tr>\n",
              "  </tbody>\n",
              "</table>\n",
              "</div>\n",
              "      <button class=\"colab-df-convert\" onclick=\"convertToInteractive('df-4d1408db-b217-41e0-9ada-2a7af3b88896')\"\n",
              "              title=\"Convert this dataframe to an interactive table.\"\n",
              "              style=\"display:none;\">\n",
              "        \n",
              "  <svg xmlns=\"http://www.w3.org/2000/svg\" height=\"24px\"viewBox=\"0 0 24 24\"\n",
              "       width=\"24px\">\n",
              "    <path d=\"M0 0h24v24H0V0z\" fill=\"none\"/>\n",
              "    <path d=\"M18.56 5.44l.94 2.06.94-2.06 2.06-.94-2.06-.94-.94-2.06-.94 2.06-2.06.94zm-11 1L8.5 8.5l.94-2.06 2.06-.94-2.06-.94L8.5 2.5l-.94 2.06-2.06.94zm10 10l.94 2.06.94-2.06 2.06-.94-2.06-.94-.94-2.06-.94 2.06-2.06.94z\"/><path d=\"M17.41 7.96l-1.37-1.37c-.4-.4-.92-.59-1.43-.59-.52 0-1.04.2-1.43.59L10.3 9.45l-7.72 7.72c-.78.78-.78 2.05 0 2.83L4 21.41c.39.39.9.59 1.41.59.51 0 1.02-.2 1.41-.59l7.78-7.78 2.81-2.81c.8-.78.8-2.07 0-2.86zM5.41 20L4 18.59l7.72-7.72 1.47 1.35L5.41 20z\"/>\n",
              "  </svg>\n",
              "      </button>\n",
              "      \n",
              "  <style>\n",
              "    .colab-df-container {\n",
              "      display:flex;\n",
              "      flex-wrap:wrap;\n",
              "      gap: 12px;\n",
              "    }\n",
              "\n",
              "    .colab-df-convert {\n",
              "      background-color: #E8F0FE;\n",
              "      border: none;\n",
              "      border-radius: 50%;\n",
              "      cursor: pointer;\n",
              "      display: none;\n",
              "      fill: #1967D2;\n",
              "      height: 32px;\n",
              "      padding: 0 0 0 0;\n",
              "      width: 32px;\n",
              "    }\n",
              "\n",
              "    .colab-df-convert:hover {\n",
              "      background-color: #E2EBFA;\n",
              "      box-shadow: 0px 1px 2px rgba(60, 64, 67, 0.3), 0px 1px 3px 1px rgba(60, 64, 67, 0.15);\n",
              "      fill: #174EA6;\n",
              "    }\n",
              "\n",
              "    [theme=dark] .colab-df-convert {\n",
              "      background-color: #3B4455;\n",
              "      fill: #D2E3FC;\n",
              "    }\n",
              "\n",
              "    [theme=dark] .colab-df-convert:hover {\n",
              "      background-color: #434B5C;\n",
              "      box-shadow: 0px 1px 3px 1px rgba(0, 0, 0, 0.15);\n",
              "      filter: drop-shadow(0px 1px 2px rgba(0, 0, 0, 0.3));\n",
              "      fill: #FFFFFF;\n",
              "    }\n",
              "  </style>\n",
              "\n",
              "      <script>\n",
              "        const buttonEl =\n",
              "          document.querySelector('#df-4d1408db-b217-41e0-9ada-2a7af3b88896 button.colab-df-convert');\n",
              "        buttonEl.style.display =\n",
              "          google.colab.kernel.accessAllowed ? 'block' : 'none';\n",
              "\n",
              "        async function convertToInteractive(key) {\n",
              "          const element = document.querySelector('#df-4d1408db-b217-41e0-9ada-2a7af3b88896');\n",
              "          const dataTable =\n",
              "            await google.colab.kernel.invokeFunction('convertToInteractive',\n",
              "                                                     [key], {});\n",
              "          if (!dataTable) return;\n",
              "\n",
              "          const docLinkHtml = 'Like what you see? Visit the ' +\n",
              "            '<a target=\"_blank\" href=https://colab.research.google.com/notebooks/data_table.ipynb>data table notebook</a>'\n",
              "            + ' to learn more about interactive tables.';\n",
              "          element.innerHTML = '';\n",
              "          dataTable['output_type'] = 'display_data';\n",
              "          await google.colab.output.renderOutput(dataTable, element);\n",
              "          const docLink = document.createElement('div');\n",
              "          docLink.innerHTML = docLinkHtml;\n",
              "          element.appendChild(docLink);\n",
              "        }\n",
              "      </script>\n",
              "    </div>\n",
              "  </div>\n",
              "  "
            ]
          },
          "metadata": {},
          "execution_count": 12
        }
      ]
    },
    {
      "cell_type": "code",
      "source": [
        "from imblearn.combine import SMOTETomek\n",
        "smk = SMOTETomek(random_state = 42)"
      ],
      "metadata": {
        "id": "IFZ255UE6il-"
      },
      "execution_count": null,
      "outputs": []
    },
    {
      "cell_type": "code",
      "source": [
        "# resampling th data\n",
        "X_resampled , Y_resampled = smk.fit_resample(X, Y)"
      ],
      "metadata": {
        "id": "TU4mpI5D7gaq"
      },
      "execution_count": null,
      "outputs": []
    },
    {
      "cell_type": "code",
      "source": [
        "Y_resampled.value_counts() #data is now balanced"
      ],
      "metadata": {
        "colab": {
          "base_uri": "https://localhost:8080/"
        },
        "id": "NeFMuwlU73o_",
        "outputId": "f8a89525-c3fe-4e5c-b6d3-90f875e380c0"
      },
      "execution_count": null,
      "outputs": [
        {
          "output_type": "execute_result",
          "data": {
            "text/plain": [
              "3    7935\n",
              "2    7850\n",
              "4    7830\n",
              "1    7696\n",
              "5    7483\n",
              "0    7340\n",
              "Name: mlid, dtype: int64"
            ]
          },
          "metadata": {},
          "execution_count": 15
        }
      ]
    },
    {
      "cell_type": "code",
      "source": [
        "# Splitting the data into training and testing set\n",
        "from sklearn.model_selection import train_test_split\n",
        "X_train, X_test, Y_train, Y_test = train_test_split(X_resampled,Y_resampled, test_size=0.2, random_state=0)"
      ],
      "metadata": {
        "id": "SErwiTrF8Gd8"
      },
      "execution_count": null,
      "outputs": []
    },
    {
      "cell_type": "code",
      "source": [
        "import tensorflow as tf\n",
        "from tensorflow.keras.models import Sequential\n",
        "from tensorflow.keras.layers import Dense\n",
        "from tensorflow.keras.utils import to_categorical"
      ],
      "metadata": {
        "id": "3OlgCcKw9Oph"
      },
      "execution_count": null,
      "outputs": []
    },
    {
      "cell_type": "code",
      "source": [
        "# Convert the labels to one-hot encoded vectors\n",
        "num_classes = 6 #number of unique classes\n",
        "y_train_encoded = to_categorical(Y_train, num_classes = num_classes)\n",
        "y_test_encoded = to_categorical(Y_test, num_classes = num_classes)"
      ],
      "metadata": {
        "id": "Bdc84kl7_Rpf"
      },
      "execution_count": null,
      "outputs": []
    },
    {
      "cell_type": "code",
      "source": [
        "y_train_encoded"
      ],
      "metadata": {
        "colab": {
          "base_uri": "https://localhost:8080/"
        },
        "id": "kC9mXWEp_swz",
        "outputId": "e26b24d4-1aa5-409a-fe02-600a9dce2c2e"
      },
      "execution_count": null,
      "outputs": [
        {
          "output_type": "execute_result",
          "data": {
            "text/plain": [
              "array([[1., 0., 0., 0., 0., 0.],\n",
              "       [0., 0., 0., 1., 0., 0.],\n",
              "       [1., 0., 0., 0., 0., 0.],\n",
              "       ...,\n",
              "       [0., 0., 0., 0., 1., 0.],\n",
              "       [0., 0., 0., 0., 0., 1.],\n",
              "       [0., 0., 0., 0., 0., 1.]], dtype=float32)"
            ]
          },
          "metadata": {},
          "execution_count": 19
        }
      ]
    },
    {
      "cell_type": "code",
      "source": [
        "# Define the architecture of the ANN model\n",
        "model = Sequential()\n",
        "model.add(Dense(64, activation = 'relu')) # input_dim represents the number of input features\n",
        "model.add(Dense(64, activation = 'relu'))\n",
        "model.add(Dense(num_classes, activation = 'softmax'))   # Output layer with softmax activation for multiclass classification"
      ],
      "metadata": {
        "id": "RPgk5C2y_67H"
      },
      "execution_count": null,
      "outputs": []
    },
    {
      "cell_type": "code",
      "source": [
        "model.compile(loss = 'categorical_crossentropy', optimizer = 'adam', metrics = ['accuracy'])"
      ],
      "metadata": {
        "id": "UeybJG63A2YW"
      },
      "execution_count": null,
      "outputs": []
    },
    {
      "cell_type": "code",
      "source": [
        "model_history = model.fit(X_train, y_train_encoded, epochs = 50, batch_size = 32)"
      ],
      "metadata": {
        "colab": {
          "base_uri": "https://localhost:8080/"
        },
        "id": "ehMjkRonBW5f",
        "outputId": "211b55a6-1468-470f-c2b5-5be4896c85fe"
      },
      "execution_count": null,
      "outputs": [
        {
          "output_type": "stream",
          "name": "stdout",
          "text": [
            "Epoch 1/50\n",
            "1154/1154 [==============================] - 10s 4ms/step - loss: 1.1387 - accuracy: 0.5908\n",
            "Epoch 2/50\n",
            "1154/1154 [==============================] - 6s 5ms/step - loss: 0.7587 - accuracy: 0.7142\n",
            "Epoch 3/50\n",
            "1154/1154 [==============================] - 7s 6ms/step - loss: 0.6398 - accuracy: 0.7627\n",
            "Epoch 4/50\n",
            "1154/1154 [==============================] - 7s 6ms/step - loss: 0.5743 - accuracy: 0.7881\n",
            "Epoch 5/50\n",
            "1154/1154 [==============================] - 6s 5ms/step - loss: 0.5476 - accuracy: 0.7962\n",
            "Epoch 6/50\n",
            "1154/1154 [==============================] - 4s 3ms/step - loss: 0.5265 - accuracy: 0.8032\n",
            "Epoch 7/50\n",
            "1154/1154 [==============================] - 3s 3ms/step - loss: 0.5088 - accuracy: 0.8106\n",
            "Epoch 8/50\n",
            "1154/1154 [==============================] - 3s 3ms/step - loss: 0.4967 - accuracy: 0.8158\n",
            "Epoch 9/50\n",
            "1154/1154 [==============================] - 4s 4ms/step - loss: 0.4825 - accuracy: 0.8223\n",
            "Epoch 10/50\n",
            "1154/1154 [==============================] - 3s 3ms/step - loss: 0.4719 - accuracy: 0.8255\n",
            "Epoch 11/50\n",
            "1154/1154 [==============================] - 4s 3ms/step - loss: 0.4609 - accuracy: 0.8288\n",
            "Epoch 12/50\n",
            "1154/1154 [==============================] - 4s 4ms/step - loss: 0.4537 - accuracy: 0.8326\n",
            "Epoch 13/50\n",
            "1154/1154 [==============================] - 4s 3ms/step - loss: 0.4447 - accuracy: 0.8364\n",
            "Epoch 14/50\n",
            "1154/1154 [==============================] - 4s 3ms/step - loss: 0.4386 - accuracy: 0.8400\n",
            "Epoch 15/50\n",
            "1154/1154 [==============================] - 4s 4ms/step - loss: 0.4327 - accuracy: 0.8401\n",
            "Epoch 16/50\n",
            "1154/1154 [==============================] - 4s 3ms/step - loss: 0.4262 - accuracy: 0.8427\n",
            "Epoch 17/50\n",
            "1154/1154 [==============================] - 4s 3ms/step - loss: 0.4180 - accuracy: 0.8467\n",
            "Epoch 18/50\n",
            "1154/1154 [==============================] - 4s 3ms/step - loss: 0.4135 - accuracy: 0.8467\n",
            "Epoch 19/50\n",
            "1154/1154 [==============================] - 4s 4ms/step - loss: 0.4081 - accuracy: 0.8474\n",
            "Epoch 20/50\n",
            "1154/1154 [==============================] - 4s 3ms/step - loss: 0.4043 - accuracy: 0.8505\n",
            "Epoch 21/50\n",
            "1154/1154 [==============================] - 3s 3ms/step - loss: 0.3998 - accuracy: 0.8523\n",
            "Epoch 22/50\n",
            "1154/1154 [==============================] - 4s 4ms/step - loss: 0.3962 - accuracy: 0.8541\n",
            "Epoch 23/50\n",
            "1154/1154 [==============================] - 4s 3ms/step - loss: 0.3911 - accuracy: 0.8541\n",
            "Epoch 24/50\n",
            "1154/1154 [==============================] - 4s 4ms/step - loss: 0.3894 - accuracy: 0.8545\n",
            "Epoch 25/50\n",
            "1154/1154 [==============================] - 4s 4ms/step - loss: 0.3848 - accuracy: 0.8569\n",
            "Epoch 26/50\n",
            "1154/1154 [==============================] - 3s 3ms/step - loss: 0.3826 - accuracy: 0.8579\n",
            "Epoch 27/50\n",
            "1154/1154 [==============================] - 4s 3ms/step - loss: 0.3783 - accuracy: 0.8602\n",
            "Epoch 28/50\n",
            "1154/1154 [==============================] - 4s 3ms/step - loss: 0.3743 - accuracy: 0.8618\n",
            "Epoch 29/50\n",
            "1154/1154 [==============================] - 4s 3ms/step - loss: 0.3737 - accuracy: 0.8609\n",
            "Epoch 30/50\n",
            "1154/1154 [==============================] - 4s 3ms/step - loss: 0.3677 - accuracy: 0.8630\n",
            "Epoch 31/50\n",
            "1154/1154 [==============================] - 4s 3ms/step - loss: 0.3672 - accuracy: 0.8632\n",
            "Epoch 32/50\n",
            "1154/1154 [==============================] - 4s 4ms/step - loss: 0.3642 - accuracy: 0.8640\n",
            "Epoch 33/50\n",
            "1154/1154 [==============================] - 4s 3ms/step - loss: 0.3617 - accuracy: 0.8660\n",
            "Epoch 34/50\n",
            "1154/1154 [==============================] - 4s 3ms/step - loss: 0.3581 - accuracy: 0.8676\n",
            "Epoch 35/50\n",
            "1154/1154 [==============================] - 4s 4ms/step - loss: 0.3560 - accuracy: 0.8666\n",
            "Epoch 36/50\n",
            "1154/1154 [==============================] - 4s 3ms/step - loss: 0.3544 - accuracy: 0.8666\n",
            "Epoch 37/50\n",
            "1154/1154 [==============================] - 4s 3ms/step - loss: 0.3526 - accuracy: 0.8679\n",
            "Epoch 38/50\n",
            "1154/1154 [==============================] - 4s 4ms/step - loss: 0.3509 - accuracy: 0.8678\n",
            "Epoch 39/50\n",
            "1154/1154 [==============================] - 4s 3ms/step - loss: 0.3494 - accuracy: 0.8695\n",
            "Epoch 40/50\n",
            "1154/1154 [==============================] - 3s 3ms/step - loss: 0.3459 - accuracy: 0.8711\n",
            "Epoch 41/50\n",
            "1154/1154 [==============================] - 4s 3ms/step - loss: 0.3485 - accuracy: 0.8688\n",
            "Epoch 42/50\n",
            "1154/1154 [==============================] - 4s 3ms/step - loss: 0.3426 - accuracy: 0.8722\n",
            "Epoch 43/50\n",
            "1154/1154 [==============================] - 3s 3ms/step - loss: 0.3435 - accuracy: 0.8708\n",
            "Epoch 44/50\n",
            "1154/1154 [==============================] - 3s 3ms/step - loss: 0.3431 - accuracy: 0.8699\n",
            "Epoch 45/50\n",
            "1154/1154 [==============================] - 4s 4ms/step - loss: 0.3392 - accuracy: 0.8724\n",
            "Epoch 46/50\n",
            "1154/1154 [==============================] - 3s 3ms/step - loss: 0.3395 - accuracy: 0.8728\n",
            "Epoch 47/50\n",
            "1154/1154 [==============================] - 3s 3ms/step - loss: 0.3372 - accuracy: 0.8732\n",
            "Epoch 48/50\n",
            "1154/1154 [==============================] - 4s 4ms/step - loss: 0.3369 - accuracy: 0.8745\n",
            "Epoch 49/50\n",
            "1154/1154 [==============================] - 3s 3ms/step - loss: 0.3359 - accuracy: 0.8739\n",
            "Epoch 50/50\n",
            "1154/1154 [==============================] - 4s 3ms/step - loss: 0.3323 - accuracy: 0.8749\n"
          ]
        }
      ]
    },
    {
      "cell_type": "code",
      "source": [
        "print(model_history.history.keys())"
      ],
      "metadata": {
        "colab": {
          "base_uri": "https://localhost:8080/"
        },
        "id": "12aVryC_EbF0",
        "outputId": "4a028e54-7b31-4f1d-e829-4824f0bc0c9c"
      },
      "execution_count": null,
      "outputs": [
        {
          "output_type": "stream",
          "name": "stdout",
          "text": [
            "dict_keys(['loss', 'accuracy'])\n"
          ]
        }
      ]
    },
    {
      "cell_type": "code",
      "source": [
        "# Evaluate the model\n",
        "loss , accuracy = model.evaluate(X_test, y_test_encoded)"
      ],
      "metadata": {
        "colab": {
          "base_uri": "https://localhost:8080/"
        },
        "id": "0cuaNn_7Eff3",
        "outputId": "42c96844-c374-4877-d3f0-65c4862d9dac"
      },
      "execution_count": null,
      "outputs": [
        {
          "output_type": "stream",
          "name": "stdout",
          "text": [
            "289/289 [==============================] - 1s 2ms/step - loss: 0.3847 - accuracy: 0.8642\n"
          ]
        }
      ]
    },
    {
      "cell_type": "code",
      "source": [
        "model.save('/content/my_model')"
      ],
      "metadata": {
        "colab": {
          "base_uri": "https://localhost:8080/"
        },
        "id": "HQmoCjhy6-BL",
        "outputId": "b1b311d4-523a-4da7-ffb9-0604075ea706"
      },
      "execution_count": null,
      "outputs": [
        {
          "output_type": "stream",
          "name": "stderr",
          "text": [
            "WARNING:absl:Found untraced functions such as _update_step_xla while saving (showing 1 of 1). These functions will not be directly callable after loading.\n"
          ]
        }
      ]
    },
    {
      "cell_type": "code",
      "source": [
        "!ls"
      ],
      "metadata": {
        "colab": {
          "base_uri": "https://localhost:8080/"
        },
        "id": "aqrvz7yP7A34",
        "outputId": "ae99a6f8-7333-4d27-d01d-3c50d4d37533"
      },
      "execution_count": null,
      "outputs": [
        {
          "output_type": "stream",
          "name": "stdout",
          "text": [
            "completeBhageeraPayload.csv  my_model  sample_data\n"
          ]
        }
      ]
    },
    {
      "cell_type": "code",
      "source": [
        "converter = tf.lite.TFLiteConverter.from_saved_model('/content/my_model')"
      ],
      "metadata": {
        "id": "DWMAZL2W7Pnw"
      },
      "execution_count": null,
      "outputs": []
    },
    {
      "cell_type": "code",
      "source": [
        "converter.target_spec.supported_types = [tf.float32]"
      ],
      "metadata": {
        "id": "SANupw3l8khf"
      },
      "execution_count": null,
      "outputs": []
    },
    {
      "cell_type": "code",
      "source": [
        "converter.target_spec.supported_ops = [\n",
        "  tf.lite.OpsSet.TFLITE_BUILTINS, # enable TensorFlow Lite ops.\n",
        "  tf.lite.OpsSet.SELECT_TF_OPS # enable TensorFlow ops.\n",
        "]"
      ],
      "metadata": {
        "id": "kDHjfVWXChSr"
      },
      "execution_count": null,
      "outputs": []
    },
    {
      "cell_type": "code",
      "source": [
        "tflite_model = converter.convert()"
      ],
      "metadata": {
        "id": "ABcg3-Lc7nWG"
      },
      "execution_count": null,
      "outputs": []
    },
    {
      "cell_type": "code",
      "source": [
        "with open('converted_model.tflite', 'wb') as f:\n",
        "    f.write(tflite_model)"
      ],
      "metadata": {
        "id": "uFUKEfzk6iTZ"
      },
      "execution_count": null,
      "outputs": []
    },
    {
      "cell_type": "code",
      "source": [
        "open(\"converted_model.tflite\", \"wb\").write(tflite_model)"
      ],
      "metadata": {
        "colab": {
          "base_uri": "https://localhost:8080/"
        },
        "id": "p7LQQs0LCuGR",
        "outputId": "a67650d0-49cf-465f-a3c8-802afd4b4c08"
      },
      "execution_count": null,
      "outputs": [
        {
          "output_type": "execute_result",
          "data": {
            "text/plain": [
              "22384"
            ]
          },
          "metadata": {},
          "execution_count": 32
        }
      ]
    },
    {
      "cell_type": "code",
      "source": [
        "# Load the converted TFLite model\n",
        "interpreter = tf.lite.Interpreter(model_path=\"converted_model.tflite\")\n",
        "try:\n",
        "    interpreter.allocate_tensors()\n",
        "    print(\"Model converted to TFLite successfully!\")\n",
        "except ValueError as e:\n",
        "    print(\"Error loading the TFLite model:\", e)"
      ],
      "metadata": {
        "colab": {
          "base_uri": "https://localhost:8080/"
        },
        "id": "SsuwMglgFlnS",
        "outputId": "59203df1-95de-46df-a107-89332115bcca"
      },
      "execution_count": null,
      "outputs": [
        {
          "output_type": "stream",
          "name": "stdout",
          "text": [
            "Model converted to TFLite successfully!\n"
          ]
        }
      ]
    },
    {
      "cell_type": "code",
      "source": [
        "!ls"
      ],
      "metadata": {
        "colab": {
          "base_uri": "https://localhost:8080/"
        },
        "id": "ElWi8TeO6oCX",
        "outputId": "a41060fa-a75f-4e57-e927-769afd5fbba3"
      },
      "execution_count": null,
      "outputs": [
        {
          "output_type": "stream",
          "name": "stdout",
          "text": [
            "completeBhageeraPayload.csv  converted_model.tflite  my_model  sample_data\n"
          ]
        }
      ]
    },
    {
      "cell_type": "code",
      "source": [
        "# Get input and output details\n",
        "input_details = interpreter.get_input_details()\n",
        "output_details = interpreter.get_output_details()"
      ],
      "metadata": {
        "id": "v_7yf3bF5kMq"
      },
      "execution_count": null,
      "outputs": []
    },
    {
      "cell_type": "code",
      "source": [
        "# Prepare input data (modify according to your model's input requirements)\n",
        "input_data = np.random.rand(*input_details[0]['shape']).astype(np.float64)\n"
      ],
      "metadata": {
        "id": "Cr_ApHPG5l_J"
      },
      "execution_count": null,
      "outputs": []
    },
    {
      "cell_type": "code",
      "source": [
        "# Set input tensor data\n",
        "interpreter.set_tensor(input_details[0]['index'], input_data)"
      ],
      "metadata": {
        "id": "d-X623nE5qSn"
      },
      "execution_count": null,
      "outputs": []
    },
    {
      "cell_type": "code",
      "source": [
        "# Run inference\n",
        "interpreter.invoke()"
      ],
      "metadata": {
        "id": "8YW-mBzP6UEt"
      },
      "execution_count": null,
      "outputs": []
    },
    {
      "cell_type": "code",
      "source": [
        "# Get output tensor data\n",
        "output_data = interpreter.get_tensor(output_details[0]['index'])"
      ],
      "metadata": {
        "id": "fQ8e4B5E6VzX"
      },
      "execution_count": null,
      "outputs": []
    },
    {
      "cell_type": "code",
      "source": [
        "input_data"
      ],
      "metadata": {
        "id": "SUQOF6nDD0cQ",
        "outputId": "3c07230e-857b-47e2-e1a9-442d396cf4bd",
        "colab": {
          "base_uri": "https://localhost:8080/"
        }
      },
      "execution_count": null,
      "outputs": [
        {
          "output_type": "execute_result",
          "data": {
            "text/plain": [
              "array([[0.13436062, 0.42874944, 0.09225087, 0.74122766, 0.78453627,\n",
              "        0.35525819]])"
            ]
          },
          "metadata": {},
          "execution_count": 40
        }
      ]
    },
    {
      "cell_type": "code",
      "source": [
        "output_data"
      ],
      "metadata": {
        "id": "VnOeO3ixD5KO",
        "outputId": "7172596b-d8cc-446c-e370-01860df361ad",
        "colab": {
          "base_uri": "https://localhost:8080/"
        }
      },
      "execution_count": null,
      "outputs": [
        {
          "output_type": "execute_result",
          "data": {
            "text/plain": [
              "array([[0.91701776, 0.04313487, 0.00703303, 0.01263261, 0.00242828,\n",
              "        0.01775349]], dtype=float32)"
            ]
          },
          "metadata": {},
          "execution_count": 41
        }
      ]
    }
  ]
}