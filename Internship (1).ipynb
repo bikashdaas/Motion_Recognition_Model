{
  "nbformat": 4,
  "nbformat_minor": 0,
  "metadata": {
    "colab": {
      "provenance": [],
      "gpuType": "T4"
    },
    "kernelspec": {
      "name": "python3",
      "display_name": "Python 3"
    },
    "language_info": {
      "name": "python"
    },
    "accelerator": "GPU",
    "gpuClass": "standard"
  },
  "cells": [
    {
      "cell_type": "code",
      "execution_count": 12,
      "metadata": {
        "id": "hlB1WzY90UUY",
        "colab": {
          "base_uri": "https://localhost:8080/"
        },
        "outputId": "11a597f3-27fa-483a-bcf2-7496338e6277"
      },
      "outputs": [
        {
          "output_type": "stream",
          "name": "stdout",
          "text": [
            "Looking in indexes: https://pypi.org/simple, https://us-python.pkg.dev/colab-wheels/public/simple/\n",
            "Requirement already satisfied: tensorflow in /usr/local/lib/python3.10/dist-packages (2.12.0)\n",
            "Requirement already satisfied: absl-py>=1.0.0 in /usr/local/lib/python3.10/dist-packages (from tensorflow) (1.4.0)\n",
            "Requirement already satisfied: astunparse>=1.6.0 in /usr/local/lib/python3.10/dist-packages (from tensorflow) (1.6.3)\n",
            "Requirement already satisfied: flatbuffers>=2.0 in /usr/local/lib/python3.10/dist-packages (from tensorflow) (23.3.3)\n",
            "Requirement already satisfied: gast<=0.4.0,>=0.2.1 in /usr/local/lib/python3.10/dist-packages (from tensorflow) (0.4.0)\n",
            "Requirement already satisfied: google-pasta>=0.1.1 in /usr/local/lib/python3.10/dist-packages (from tensorflow) (0.2.0)\n",
            "Requirement already satisfied: grpcio<2.0,>=1.24.3 in /usr/local/lib/python3.10/dist-packages (from tensorflow) (1.54.0)\n",
            "Requirement already satisfied: h5py>=2.9.0 in /usr/local/lib/python3.10/dist-packages (from tensorflow) (3.8.0)\n",
            "Requirement already satisfied: jax>=0.3.15 in /usr/local/lib/python3.10/dist-packages (from tensorflow) (0.4.8)\n",
            "Requirement already satisfied: keras<2.13,>=2.12.0 in /usr/local/lib/python3.10/dist-packages (from tensorflow) (2.12.0)\n",
            "Requirement already satisfied: libclang>=13.0.0 in /usr/local/lib/python3.10/dist-packages (from tensorflow) (16.0.0)\n",
            "Requirement already satisfied: numpy<1.24,>=1.22 in /usr/local/lib/python3.10/dist-packages (from tensorflow) (1.22.4)\n",
            "Requirement already satisfied: opt-einsum>=2.3.2 in /usr/local/lib/python3.10/dist-packages (from tensorflow) (3.3.0)\n",
            "Requirement already satisfied: packaging in /usr/local/lib/python3.10/dist-packages (from tensorflow) (23.1)\n",
            "Requirement already satisfied: protobuf!=4.21.0,!=4.21.1,!=4.21.2,!=4.21.3,!=4.21.4,!=4.21.5,<5.0.0dev,>=3.20.3 in /usr/local/lib/python3.10/dist-packages (from tensorflow) (3.20.3)\n",
            "Requirement already satisfied: setuptools in /usr/local/lib/python3.10/dist-packages (from tensorflow) (67.7.2)\n",
            "Requirement already satisfied: six>=1.12.0 in /usr/local/lib/python3.10/dist-packages (from tensorflow) (1.16.0)\n",
            "Requirement already satisfied: tensorboard<2.13,>=2.12 in /usr/local/lib/python3.10/dist-packages (from tensorflow) (2.12.2)\n",
            "Requirement already satisfied: tensorflow-estimator<2.13,>=2.12.0 in /usr/local/lib/python3.10/dist-packages (from tensorflow) (2.12.0)\n",
            "Requirement already satisfied: termcolor>=1.1.0 in /usr/local/lib/python3.10/dist-packages (from tensorflow) (2.3.0)\n",
            "Requirement already satisfied: typing-extensions>=3.6.6 in /usr/local/lib/python3.10/dist-packages (from tensorflow) (4.5.0)\n",
            "Requirement already satisfied: wrapt<1.15,>=1.11.0 in /usr/local/lib/python3.10/dist-packages (from tensorflow) (1.14.1)\n",
            "Requirement already satisfied: tensorflow-io-gcs-filesystem>=0.23.1 in /usr/local/lib/python3.10/dist-packages (from tensorflow) (0.32.0)\n",
            "Requirement already satisfied: wheel<1.0,>=0.23.0 in /usr/local/lib/python3.10/dist-packages (from astunparse>=1.6.0->tensorflow) (0.40.0)\n",
            "Requirement already satisfied: ml-dtypes>=0.0.3 in /usr/local/lib/python3.10/dist-packages (from jax>=0.3.15->tensorflow) (0.1.0)\n",
            "Requirement already satisfied: scipy>=1.7 in /usr/local/lib/python3.10/dist-packages (from jax>=0.3.15->tensorflow) (1.10.1)\n",
            "Requirement already satisfied: google-auth<3,>=1.6.3 in /usr/local/lib/python3.10/dist-packages (from tensorboard<2.13,>=2.12->tensorflow) (2.17.3)\n",
            "Requirement already satisfied: google-auth-oauthlib<1.1,>=0.5 in /usr/local/lib/python3.10/dist-packages (from tensorboard<2.13,>=2.12->tensorflow) (1.0.0)\n",
            "Requirement already satisfied: markdown>=2.6.8 in /usr/local/lib/python3.10/dist-packages (from tensorboard<2.13,>=2.12->tensorflow) (3.4.3)\n",
            "Requirement already satisfied: requests<3,>=2.21.0 in /usr/local/lib/python3.10/dist-packages (from tensorboard<2.13,>=2.12->tensorflow) (2.27.1)\n",
            "Requirement already satisfied: tensorboard-data-server<0.8.0,>=0.7.0 in /usr/local/lib/python3.10/dist-packages (from tensorboard<2.13,>=2.12->tensorflow) (0.7.0)\n",
            "Requirement already satisfied: tensorboard-plugin-wit>=1.6.0 in /usr/local/lib/python3.10/dist-packages (from tensorboard<2.13,>=2.12->tensorflow) (1.8.1)\n",
            "Requirement already satisfied: werkzeug>=1.0.1 in /usr/local/lib/python3.10/dist-packages (from tensorboard<2.13,>=2.12->tensorflow) (2.3.0)\n",
            "Requirement already satisfied: cachetools<6.0,>=2.0.0 in /usr/local/lib/python3.10/dist-packages (from google-auth<3,>=1.6.3->tensorboard<2.13,>=2.12->tensorflow) (5.3.0)\n",
            "Requirement already satisfied: pyasn1-modules>=0.2.1 in /usr/local/lib/python3.10/dist-packages (from google-auth<3,>=1.6.3->tensorboard<2.13,>=2.12->tensorflow) (0.3.0)\n",
            "Requirement already satisfied: rsa<5,>=3.1.4 in /usr/local/lib/python3.10/dist-packages (from google-auth<3,>=1.6.3->tensorboard<2.13,>=2.12->tensorflow) (4.9)\n",
            "Requirement already satisfied: requests-oauthlib>=0.7.0 in /usr/local/lib/python3.10/dist-packages (from google-auth-oauthlib<1.1,>=0.5->tensorboard<2.13,>=2.12->tensorflow) (1.3.1)\n",
            "Requirement already satisfied: urllib3<1.27,>=1.21.1 in /usr/local/lib/python3.10/dist-packages (from requests<3,>=2.21.0->tensorboard<2.13,>=2.12->tensorflow) (1.26.15)\n",
            "Requirement already satisfied: certifi>=2017.4.17 in /usr/local/lib/python3.10/dist-packages (from requests<3,>=2.21.0->tensorboard<2.13,>=2.12->tensorflow) (2022.12.7)\n",
            "Requirement already satisfied: charset-normalizer~=2.0.0 in /usr/local/lib/python3.10/dist-packages (from requests<3,>=2.21.0->tensorboard<2.13,>=2.12->tensorflow) (2.0.12)\n",
            "Requirement already satisfied: idna<4,>=2.5 in /usr/local/lib/python3.10/dist-packages (from requests<3,>=2.21.0->tensorboard<2.13,>=2.12->tensorflow) (3.4)\n",
            "Requirement already satisfied: MarkupSafe>=2.1.1 in /usr/local/lib/python3.10/dist-packages (from werkzeug>=1.0.1->tensorboard<2.13,>=2.12->tensorflow) (2.1.2)\n",
            "Requirement already satisfied: pyasn1<0.6.0,>=0.4.6 in /usr/local/lib/python3.10/dist-packages (from pyasn1-modules>=0.2.1->google-auth<3,>=1.6.3->tensorboard<2.13,>=2.12->tensorflow) (0.5.0)\n",
            "Requirement already satisfied: oauthlib>=3.0.0 in /usr/local/lib/python3.10/dist-packages (from requests-oauthlib>=0.7.0->google-auth-oauthlib<1.1,>=0.5->tensorboard<2.13,>=2.12->tensorflow) (3.2.2)\n",
            "Looking in indexes: https://pypi.org/simple, https://us-python.pkg.dev/colab-wheels/public/simple/\n",
            "\u001b[31mERROR: Could not find a version that satisfies the requirement tensorflow-lite (from versions: none)\u001b[0m\u001b[31m\n",
            "\u001b[0m\u001b[31mERROR: No matching distribution found for tensorflow-lite\u001b[0m\u001b[31m\n",
            "\u001b[0m"
          ]
        }
      ],
      "source": [
        "!pip install --upgrade tensorflow\n",
        "!pip install --upgrade tensorflow-lite"
      ]
    },
    {
      "cell_type": "code",
      "source": [
        "import numpy as np\n",
        "import pandas as pd\n",
        "import tensorflow as tf\n",
        "from tensorflow import keras\n",
        "from keras import models,layers\n",
        "import matplotlib.pyplot as plt"
      ],
      "metadata": {
        "id": "pLouUjGq9rSz"
      },
      "execution_count": 13,
      "outputs": []
    },
    {
      "cell_type": "code",
      "source": [
        "df = pd.read_csv('/content/completeBhageeraPayload.csv')"
      ],
      "metadata": {
        "id": "PEYbGEkR3LoG"
      },
      "execution_count": 14,
      "outputs": []
    },
    {
      "cell_type": "code",
      "source": [
        "df.head(5)"
      ],
      "metadata": {
        "colab": {
          "base_uri": "https://localhost:8080/",
          "height": 206
        },
        "id": "q5nNwhDW3XWX",
        "outputId": "e1de6f96-ff62-4054-b3ec-79206be282a0"
      },
      "execution_count": 15,
      "outputs": [
        {
          "output_type": "execute_result",
          "data": {
            "text/plain": [
              "      mlid        ax        ay        az         gx         gy         gz\n",
              "0  Walking -0.430176  0.611572 -0.747803 -17.633587 -55.404579   4.854962\n",
              "1  Walking -0.600586  0.668945 -0.920898  10.916031  88.320610 -46.167938\n",
              "2  Walking -0.390137  0.568115 -0.972168 -23.702290   9.648855 -15.167939\n",
              "3  Walking -1.108887  0.886475 -0.582275  70.381676 -85.572517  47.000000\n",
              "4  Walking -0.442139  0.665039 -0.820068  44.259541 -87.793892  49.152672"
            ],
            "text/html": [
              "\n",
              "  <div id=\"df-f612b9c1-9beb-464c-8a89-ef47b4396f5a\">\n",
              "    <div class=\"colab-df-container\">\n",
              "      <div>\n",
              "<style scoped>\n",
              "    .dataframe tbody tr th:only-of-type {\n",
              "        vertical-align: middle;\n",
              "    }\n",
              "\n",
              "    .dataframe tbody tr th {\n",
              "        vertical-align: top;\n",
              "    }\n",
              "\n",
              "    .dataframe thead th {\n",
              "        text-align: right;\n",
              "    }\n",
              "</style>\n",
              "<table border=\"1\" class=\"dataframe\">\n",
              "  <thead>\n",
              "    <tr style=\"text-align: right;\">\n",
              "      <th></th>\n",
              "      <th>mlid</th>\n",
              "      <th>ax</th>\n",
              "      <th>ay</th>\n",
              "      <th>az</th>\n",
              "      <th>gx</th>\n",
              "      <th>gy</th>\n",
              "      <th>gz</th>\n",
              "    </tr>\n",
              "  </thead>\n",
              "  <tbody>\n",
              "    <tr>\n",
              "      <th>0</th>\n",
              "      <td>Walking</td>\n",
              "      <td>-0.430176</td>\n",
              "      <td>0.611572</td>\n",
              "      <td>-0.747803</td>\n",
              "      <td>-17.633587</td>\n",
              "      <td>-55.404579</td>\n",
              "      <td>4.854962</td>\n",
              "    </tr>\n",
              "    <tr>\n",
              "      <th>1</th>\n",
              "      <td>Walking</td>\n",
              "      <td>-0.600586</td>\n",
              "      <td>0.668945</td>\n",
              "      <td>-0.920898</td>\n",
              "      <td>10.916031</td>\n",
              "      <td>88.320610</td>\n",
              "      <td>-46.167938</td>\n",
              "    </tr>\n",
              "    <tr>\n",
              "      <th>2</th>\n",
              "      <td>Walking</td>\n",
              "      <td>-0.390137</td>\n",
              "      <td>0.568115</td>\n",
              "      <td>-0.972168</td>\n",
              "      <td>-23.702290</td>\n",
              "      <td>9.648855</td>\n",
              "      <td>-15.167939</td>\n",
              "    </tr>\n",
              "    <tr>\n",
              "      <th>3</th>\n",
              "      <td>Walking</td>\n",
              "      <td>-1.108887</td>\n",
              "      <td>0.886475</td>\n",
              "      <td>-0.582275</td>\n",
              "      <td>70.381676</td>\n",
              "      <td>-85.572517</td>\n",
              "      <td>47.000000</td>\n",
              "    </tr>\n",
              "    <tr>\n",
              "      <th>4</th>\n",
              "      <td>Walking</td>\n",
              "      <td>-0.442139</td>\n",
              "      <td>0.665039</td>\n",
              "      <td>-0.820068</td>\n",
              "      <td>44.259541</td>\n",
              "      <td>-87.793892</td>\n",
              "      <td>49.152672</td>\n",
              "    </tr>\n",
              "  </tbody>\n",
              "</table>\n",
              "</div>\n",
              "      <button class=\"colab-df-convert\" onclick=\"convertToInteractive('df-f612b9c1-9beb-464c-8a89-ef47b4396f5a')\"\n",
              "              title=\"Convert this dataframe to an interactive table.\"\n",
              "              style=\"display:none;\">\n",
              "        \n",
              "  <svg xmlns=\"http://www.w3.org/2000/svg\" height=\"24px\"viewBox=\"0 0 24 24\"\n",
              "       width=\"24px\">\n",
              "    <path d=\"M0 0h24v24H0V0z\" fill=\"none\"/>\n",
              "    <path d=\"M18.56 5.44l.94 2.06.94-2.06 2.06-.94-2.06-.94-.94-2.06-.94 2.06-2.06.94zm-11 1L8.5 8.5l.94-2.06 2.06-.94-2.06-.94L8.5 2.5l-.94 2.06-2.06.94zm10 10l.94 2.06.94-2.06 2.06-.94-2.06-.94-.94-2.06-.94 2.06-2.06.94z\"/><path d=\"M17.41 7.96l-1.37-1.37c-.4-.4-.92-.59-1.43-.59-.52 0-1.04.2-1.43.59L10.3 9.45l-7.72 7.72c-.78.78-.78 2.05 0 2.83L4 21.41c.39.39.9.59 1.41.59.51 0 1.02-.2 1.41-.59l7.78-7.78 2.81-2.81c.8-.78.8-2.07 0-2.86zM5.41 20L4 18.59l7.72-7.72 1.47 1.35L5.41 20z\"/>\n",
              "  </svg>\n",
              "      </button>\n",
              "      \n",
              "  <style>\n",
              "    .colab-df-container {\n",
              "      display:flex;\n",
              "      flex-wrap:wrap;\n",
              "      gap: 12px;\n",
              "    }\n",
              "\n",
              "    .colab-df-convert {\n",
              "      background-color: #E8F0FE;\n",
              "      border: none;\n",
              "      border-radius: 50%;\n",
              "      cursor: pointer;\n",
              "      display: none;\n",
              "      fill: #1967D2;\n",
              "      height: 32px;\n",
              "      padding: 0 0 0 0;\n",
              "      width: 32px;\n",
              "    }\n",
              "\n",
              "    .colab-df-convert:hover {\n",
              "      background-color: #E2EBFA;\n",
              "      box-shadow: 0px 1px 2px rgba(60, 64, 67, 0.3), 0px 1px 3px 1px rgba(60, 64, 67, 0.15);\n",
              "      fill: #174EA6;\n",
              "    }\n",
              "\n",
              "    [theme=dark] .colab-df-convert {\n",
              "      background-color: #3B4455;\n",
              "      fill: #D2E3FC;\n",
              "    }\n",
              "\n",
              "    [theme=dark] .colab-df-convert:hover {\n",
              "      background-color: #434B5C;\n",
              "      box-shadow: 0px 1px 3px 1px rgba(0, 0, 0, 0.15);\n",
              "      filter: drop-shadow(0px 1px 2px rgba(0, 0, 0, 0.3));\n",
              "      fill: #FFFFFF;\n",
              "    }\n",
              "  </style>\n",
              "\n",
              "      <script>\n",
              "        const buttonEl =\n",
              "          document.querySelector('#df-f612b9c1-9beb-464c-8a89-ef47b4396f5a button.colab-df-convert');\n",
              "        buttonEl.style.display =\n",
              "          google.colab.kernel.accessAllowed ? 'block' : 'none';\n",
              "\n",
              "        async function convertToInteractive(key) {\n",
              "          const element = document.querySelector('#df-f612b9c1-9beb-464c-8a89-ef47b4396f5a');\n",
              "          const dataTable =\n",
              "            await google.colab.kernel.invokeFunction('convertToInteractive',\n",
              "                                                     [key], {});\n",
              "          if (!dataTable) return;\n",
              "\n",
              "          const docLinkHtml = 'Like what you see? Visit the ' +\n",
              "            '<a target=\"_blank\" href=https://colab.research.google.com/notebooks/data_table.ipynb>data table notebook</a>'\n",
              "            + ' to learn more about interactive tables.';\n",
              "          element.innerHTML = '';\n",
              "          dataTable['output_type'] = 'display_data';\n",
              "          await google.colab.output.renderOutput(dataTable, element);\n",
              "          const docLink = document.createElement('div');\n",
              "          docLink.innerHTML = docLinkHtml;\n",
              "          element.appendChild(docLink);\n",
              "        }\n",
              "      </script>\n",
              "    </div>\n",
              "  </div>\n",
              "  "
            ]
          },
          "metadata": {},
          "execution_count": 15
        }
      ]
    },
    {
      "cell_type": "code",
      "source": [
        "df['mlid'].value_counts() #data is imbalanced"
      ],
      "metadata": {
        "colab": {
          "base_uri": "https://localhost:8080/"
        },
        "id": "HiiGNNTF3p53",
        "outputId": "e4eaf4b0-d6ea-4ea7-8a0e-0b4495746262"
      },
      "execution_count": 16,
      "outputs": [
        {
          "output_type": "execute_result",
          "data": {
            "text/plain": [
              "Rest        8141\n",
              "Sleep       5753\n",
              "Walking     5241\n",
              "Running     3698\n",
              "Standing    1757\n",
              "Sitting      839\n",
              "Name: mlid, dtype: int64"
            ]
          },
          "metadata": {},
          "execution_count": 16
        }
      ]
    },
    {
      "cell_type": "code",
      "source": [
        "from sklearn.preprocessing import LabelEncoder\n",
        "yle = LabelEncoder()\n",
        "df['mlid'] = yle.fit_transform(df['mlid'])"
      ],
      "metadata": {
        "id": "OJMoXf_134Ed"
      },
      "execution_count": 17,
      "outputs": []
    },
    {
      "cell_type": "code",
      "source": [
        "df['mlid'].value_counts() "
      ],
      "metadata": {
        "colab": {
          "base_uri": "https://localhost:8080/"
        },
        "id": "psZ4n8D14TnZ",
        "outputId": "78adeeb3-0f18-4cb7-8320-305f018d1698"
      },
      "execution_count": 18,
      "outputs": [
        {
          "output_type": "execute_result",
          "data": {
            "text/plain": [
              "0    8141\n",
              "3    5753\n",
              "5    5241\n",
              "1    3698\n",
              "4    1757\n",
              "2     839\n",
              "Name: mlid, dtype: int64"
            ]
          },
          "metadata": {},
          "execution_count": 18
        }
      ]
    },
    {
      "cell_type": "code",
      "source": [
        "X = df.drop('mlid', axis =1)\n",
        "Y= df['mlid']"
      ],
      "metadata": {
        "id": "PndgNrNh4v0G"
      },
      "execution_count": 19,
      "outputs": []
    },
    {
      "cell_type": "code",
      "source": [
        "X.head(5)"
      ],
      "metadata": {
        "colab": {
          "base_uri": "https://localhost:8080/",
          "height": 206
        },
        "id": "Z9cG-ZA749Za",
        "outputId": "1da64308-846b-4ef6-be15-38de1d12d375"
      },
      "execution_count": 20,
      "outputs": [
        {
          "output_type": "execute_result",
          "data": {
            "text/plain": [
              "         ax        ay        az         gx         gy         gz\n",
              "0 -0.430176  0.611572 -0.747803 -17.633587 -55.404579   4.854962\n",
              "1 -0.600586  0.668945 -0.920898  10.916031  88.320610 -46.167938\n",
              "2 -0.390137  0.568115 -0.972168 -23.702290   9.648855 -15.167939\n",
              "3 -1.108887  0.886475 -0.582275  70.381676 -85.572517  47.000000\n",
              "4 -0.442139  0.665039 -0.820068  44.259541 -87.793892  49.152672"
            ],
            "text/html": [
              "\n",
              "  <div id=\"df-7151495f-def0-49c1-98aa-16848eae686b\">\n",
              "    <div class=\"colab-df-container\">\n",
              "      <div>\n",
              "<style scoped>\n",
              "    .dataframe tbody tr th:only-of-type {\n",
              "        vertical-align: middle;\n",
              "    }\n",
              "\n",
              "    .dataframe tbody tr th {\n",
              "        vertical-align: top;\n",
              "    }\n",
              "\n",
              "    .dataframe thead th {\n",
              "        text-align: right;\n",
              "    }\n",
              "</style>\n",
              "<table border=\"1\" class=\"dataframe\">\n",
              "  <thead>\n",
              "    <tr style=\"text-align: right;\">\n",
              "      <th></th>\n",
              "      <th>ax</th>\n",
              "      <th>ay</th>\n",
              "      <th>az</th>\n",
              "      <th>gx</th>\n",
              "      <th>gy</th>\n",
              "      <th>gz</th>\n",
              "    </tr>\n",
              "  </thead>\n",
              "  <tbody>\n",
              "    <tr>\n",
              "      <th>0</th>\n",
              "      <td>-0.430176</td>\n",
              "      <td>0.611572</td>\n",
              "      <td>-0.747803</td>\n",
              "      <td>-17.633587</td>\n",
              "      <td>-55.404579</td>\n",
              "      <td>4.854962</td>\n",
              "    </tr>\n",
              "    <tr>\n",
              "      <th>1</th>\n",
              "      <td>-0.600586</td>\n",
              "      <td>0.668945</td>\n",
              "      <td>-0.920898</td>\n",
              "      <td>10.916031</td>\n",
              "      <td>88.320610</td>\n",
              "      <td>-46.167938</td>\n",
              "    </tr>\n",
              "    <tr>\n",
              "      <th>2</th>\n",
              "      <td>-0.390137</td>\n",
              "      <td>0.568115</td>\n",
              "      <td>-0.972168</td>\n",
              "      <td>-23.702290</td>\n",
              "      <td>9.648855</td>\n",
              "      <td>-15.167939</td>\n",
              "    </tr>\n",
              "    <tr>\n",
              "      <th>3</th>\n",
              "      <td>-1.108887</td>\n",
              "      <td>0.886475</td>\n",
              "      <td>-0.582275</td>\n",
              "      <td>70.381676</td>\n",
              "      <td>-85.572517</td>\n",
              "      <td>47.000000</td>\n",
              "    </tr>\n",
              "    <tr>\n",
              "      <th>4</th>\n",
              "      <td>-0.442139</td>\n",
              "      <td>0.665039</td>\n",
              "      <td>-0.820068</td>\n",
              "      <td>44.259541</td>\n",
              "      <td>-87.793892</td>\n",
              "      <td>49.152672</td>\n",
              "    </tr>\n",
              "  </tbody>\n",
              "</table>\n",
              "</div>\n",
              "      <button class=\"colab-df-convert\" onclick=\"convertToInteractive('df-7151495f-def0-49c1-98aa-16848eae686b')\"\n",
              "              title=\"Convert this dataframe to an interactive table.\"\n",
              "              style=\"display:none;\">\n",
              "        \n",
              "  <svg xmlns=\"http://www.w3.org/2000/svg\" height=\"24px\"viewBox=\"0 0 24 24\"\n",
              "       width=\"24px\">\n",
              "    <path d=\"M0 0h24v24H0V0z\" fill=\"none\"/>\n",
              "    <path d=\"M18.56 5.44l.94 2.06.94-2.06 2.06-.94-2.06-.94-.94-2.06-.94 2.06-2.06.94zm-11 1L8.5 8.5l.94-2.06 2.06-.94-2.06-.94L8.5 2.5l-.94 2.06-2.06.94zm10 10l.94 2.06.94-2.06 2.06-.94-2.06-.94-.94-2.06-.94 2.06-2.06.94z\"/><path d=\"M17.41 7.96l-1.37-1.37c-.4-.4-.92-.59-1.43-.59-.52 0-1.04.2-1.43.59L10.3 9.45l-7.72 7.72c-.78.78-.78 2.05 0 2.83L4 21.41c.39.39.9.59 1.41.59.51 0 1.02-.2 1.41-.59l7.78-7.78 2.81-2.81c.8-.78.8-2.07 0-2.86zM5.41 20L4 18.59l7.72-7.72 1.47 1.35L5.41 20z\"/>\n",
              "  </svg>\n",
              "      </button>\n",
              "      \n",
              "  <style>\n",
              "    .colab-df-container {\n",
              "      display:flex;\n",
              "      flex-wrap:wrap;\n",
              "      gap: 12px;\n",
              "    }\n",
              "\n",
              "    .colab-df-convert {\n",
              "      background-color: #E8F0FE;\n",
              "      border: none;\n",
              "      border-radius: 50%;\n",
              "      cursor: pointer;\n",
              "      display: none;\n",
              "      fill: #1967D2;\n",
              "      height: 32px;\n",
              "      padding: 0 0 0 0;\n",
              "      width: 32px;\n",
              "    }\n",
              "\n",
              "    .colab-df-convert:hover {\n",
              "      background-color: #E2EBFA;\n",
              "      box-shadow: 0px 1px 2px rgba(60, 64, 67, 0.3), 0px 1px 3px 1px rgba(60, 64, 67, 0.15);\n",
              "      fill: #174EA6;\n",
              "    }\n",
              "\n",
              "    [theme=dark] .colab-df-convert {\n",
              "      background-color: #3B4455;\n",
              "      fill: #D2E3FC;\n",
              "    }\n",
              "\n",
              "    [theme=dark] .colab-df-convert:hover {\n",
              "      background-color: #434B5C;\n",
              "      box-shadow: 0px 1px 3px 1px rgba(0, 0, 0, 0.15);\n",
              "      filter: drop-shadow(0px 1px 2px rgba(0, 0, 0, 0.3));\n",
              "      fill: #FFFFFF;\n",
              "    }\n",
              "  </style>\n",
              "\n",
              "      <script>\n",
              "        const buttonEl =\n",
              "          document.querySelector('#df-7151495f-def0-49c1-98aa-16848eae686b button.colab-df-convert');\n",
              "        buttonEl.style.display =\n",
              "          google.colab.kernel.accessAllowed ? 'block' : 'none';\n",
              "\n",
              "        async function convertToInteractive(key) {\n",
              "          const element = document.querySelector('#df-7151495f-def0-49c1-98aa-16848eae686b');\n",
              "          const dataTable =\n",
              "            await google.colab.kernel.invokeFunction('convertToInteractive',\n",
              "                                                     [key], {});\n",
              "          if (!dataTable) return;\n",
              "\n",
              "          const docLinkHtml = 'Like what you see? Visit the ' +\n",
              "            '<a target=\"_blank\" href=https://colab.research.google.com/notebooks/data_table.ipynb>data table notebook</a>'\n",
              "            + ' to learn more about interactive tables.';\n",
              "          element.innerHTML = '';\n",
              "          dataTable['output_type'] = 'display_data';\n",
              "          await google.colab.output.renderOutput(dataTable, element);\n",
              "          const docLink = document.createElement('div');\n",
              "          docLink.innerHTML = docLinkHtml;\n",
              "          element.appendChild(docLink);\n",
              "        }\n",
              "      </script>\n",
              "    </div>\n",
              "  </div>\n",
              "  "
            ]
          },
          "metadata": {},
          "execution_count": 20
        }
      ]
    },
    {
      "cell_type": "code",
      "source": [
        "from imblearn.combine import SMOTETomek\n",
        "smk = SMOTETomek(random_state = 42)"
      ],
      "metadata": {
        "id": "IFZ255UE6il-"
      },
      "execution_count": 21,
      "outputs": []
    },
    {
      "cell_type": "code",
      "source": [
        "# resampling th data\n",
        "X_resampled , Y_resampled = smk.fit_resample(X, Y)"
      ],
      "metadata": {
        "id": "TU4mpI5D7gaq"
      },
      "execution_count": 22,
      "outputs": []
    },
    {
      "cell_type": "code",
      "source": [
        "Y_resampled.value_counts() #data is now balanced"
      ],
      "metadata": {
        "colab": {
          "base_uri": "https://localhost:8080/"
        },
        "id": "NeFMuwlU73o_",
        "outputId": "c3d92c57-b10b-437d-a39b-e36d71d09bc6"
      },
      "execution_count": 23,
      "outputs": [
        {
          "output_type": "execute_result",
          "data": {
            "text/plain": [
              "3    7935\n",
              "2    7850\n",
              "4    7830\n",
              "1    7696\n",
              "5    7483\n",
              "0    7340\n",
              "Name: mlid, dtype: int64"
            ]
          },
          "metadata": {},
          "execution_count": 23
        }
      ]
    },
    {
      "cell_type": "code",
      "source": [
        "# Splitting the data into training and testing set\n",
        "from sklearn.model_selection import train_test_split\n",
        "X_train, X_test, Y_train, Y_test = train_test_split(X_resampled,Y_resampled, test_size=0.2, random_state=0)"
      ],
      "metadata": {
        "id": "SErwiTrF8Gd8"
      },
      "execution_count": 24,
      "outputs": []
    },
    {
      "cell_type": "code",
      "source": [
        "import tensorflow as tf\n",
        "from tensorflow.keras.models import Sequential\n",
        "from tensorflow.keras.layers import Dense\n",
        "from tensorflow.keras.utils import to_categorical"
      ],
      "metadata": {
        "id": "3OlgCcKw9Oph"
      },
      "execution_count": 25,
      "outputs": []
    },
    {
      "cell_type": "code",
      "source": [
        "# Convert the labels to one-hot encoded vectors\n",
        "num_classes = 6 #number of unique classes\n",
        "y_train_encoded = to_categorical(Y_train, num_classes = num_classes)\n",
        "y_test_encoded = to_categorical(Y_test, num_classes = num_classes)"
      ],
      "metadata": {
        "id": "Bdc84kl7_Rpf"
      },
      "execution_count": 26,
      "outputs": []
    },
    {
      "cell_type": "code",
      "source": [
        "y_train_encoded"
      ],
      "metadata": {
        "colab": {
          "base_uri": "https://localhost:8080/"
        },
        "id": "kC9mXWEp_swz",
        "outputId": "fdd6fdf6-bf01-4523-8f79-60c7f12e13b1"
      },
      "execution_count": 27,
      "outputs": [
        {
          "output_type": "execute_result",
          "data": {
            "text/plain": [
              "array([[1., 0., 0., 0., 0., 0.],\n",
              "       [0., 0., 0., 1., 0., 0.],\n",
              "       [1., 0., 0., 0., 0., 0.],\n",
              "       ...,\n",
              "       [0., 0., 0., 0., 1., 0.],\n",
              "       [0., 0., 0., 0., 0., 1.],\n",
              "       [0., 0., 0., 0., 0., 1.]], dtype=float32)"
            ]
          },
          "metadata": {},
          "execution_count": 27
        }
      ]
    },
    {
      "cell_type": "code",
      "source": [
        "# Define the architecture of the ANN model\n",
        "model = Sequential()\n",
        "model.add(Dense(64, activation = 'relu')) # input_dim represents the number of input features\n",
        "model.add(Dense(64, activation = 'relu'))\n",
        "model.add(Dense(num_classes, activation = 'softmax'))   # Output layer with softmax activation for multiclass classification"
      ],
      "metadata": {
        "id": "RPgk5C2y_67H"
      },
      "execution_count": 28,
      "outputs": []
    },
    {
      "cell_type": "code",
      "source": [
        "model.compile(loss = 'categorical_crossentropy', optimizer = 'adam', metrics = ['accuracy'])"
      ],
      "metadata": {
        "id": "UeybJG63A2YW"
      },
      "execution_count": 29,
      "outputs": []
    },
    {
      "cell_type": "code",
      "source": [
        "model_history = model.fit(X_train, y_train_encoded, epochs = 100, batch_size = 32)"
      ],
      "metadata": {
        "colab": {
          "base_uri": "https://localhost:8080/"
        },
        "id": "ehMjkRonBW5f",
        "outputId": "bc6cba8e-3b81-467f-fe73-43ec5bcf3f10"
      },
      "execution_count": 30,
      "outputs": [
        {
          "output_type": "stream",
          "name": "stdout",
          "text": [
            "Epoch 1/100\n",
            "1154/1154 [==============================] - 10s 4ms/step - loss: 1.2190 - accuracy: 0.5705\n",
            "Epoch 2/100\n",
            "1154/1154 [==============================] - 8s 7ms/step - loss: 0.7615 - accuracy: 0.7188\n",
            "Epoch 3/100\n",
            "1154/1154 [==============================] - 8s 7ms/step - loss: 0.6382 - accuracy: 0.7607\n",
            "Epoch 4/100\n",
            "1154/1154 [==============================] - 8s 7ms/step - loss: 0.5804 - accuracy: 0.7825\n",
            "Epoch 5/100\n",
            "1154/1154 [==============================] - 4s 3ms/step - loss: 0.5513 - accuracy: 0.7927\n",
            "Epoch 6/100\n",
            "1154/1154 [==============================] - 4s 4ms/step - loss: 0.5297 - accuracy: 0.7994\n",
            "Epoch 7/100\n",
            "1154/1154 [==============================] - 4s 4ms/step - loss: 0.5129 - accuracy: 0.8064\n",
            "Epoch 8/100\n",
            "1154/1154 [==============================] - 4s 3ms/step - loss: 0.4962 - accuracy: 0.8140\n",
            "Epoch 9/100\n",
            "1154/1154 [==============================] - 4s 3ms/step - loss: 0.4831 - accuracy: 0.8199\n",
            "Epoch 10/100\n",
            "1154/1154 [==============================] - 4s 4ms/step - loss: 0.4677 - accuracy: 0.8248\n",
            "Epoch 11/100\n",
            "1154/1154 [==============================] - 4s 3ms/step - loss: 0.4588 - accuracy: 0.8293\n",
            "Epoch 12/100\n",
            "1154/1154 [==============================] - 4s 3ms/step - loss: 0.4483 - accuracy: 0.8307\n",
            "Epoch 13/100\n",
            "1154/1154 [==============================] - 5s 4ms/step - loss: 0.4443 - accuracy: 0.8351\n",
            "Epoch 14/100\n",
            "1154/1154 [==============================] - 4s 3ms/step - loss: 0.4364 - accuracy: 0.8372\n",
            "Epoch 15/100\n",
            "1154/1154 [==============================] - 4s 3ms/step - loss: 0.4287 - accuracy: 0.8406\n",
            "Epoch 16/100\n",
            "1154/1154 [==============================] - 5s 4ms/step - loss: 0.4215 - accuracy: 0.8421\n",
            "Epoch 17/100\n",
            "1154/1154 [==============================] - 4s 3ms/step - loss: 0.4169 - accuracy: 0.8443\n",
            "Epoch 18/100\n",
            "1154/1154 [==============================] - 4s 3ms/step - loss: 0.4135 - accuracy: 0.8460\n",
            "Epoch 19/100\n",
            "1154/1154 [==============================] - 5s 4ms/step - loss: 0.4091 - accuracy: 0.8469\n",
            "Epoch 20/100\n",
            "1154/1154 [==============================] - 4s 3ms/step - loss: 0.4057 - accuracy: 0.8479\n",
            "Epoch 21/100\n",
            "1154/1154 [==============================] - 4s 3ms/step - loss: 0.4004 - accuracy: 0.8505\n",
            "Epoch 22/100\n",
            "1154/1154 [==============================] - 5s 4ms/step - loss: 0.3977 - accuracy: 0.8509\n",
            "Epoch 23/100\n",
            "1154/1154 [==============================] - 4s 4ms/step - loss: 0.3924 - accuracy: 0.8529\n",
            "Epoch 24/100\n",
            "1154/1154 [==============================] - 4s 3ms/step - loss: 0.3902 - accuracy: 0.8547\n",
            "Epoch 25/100\n",
            "1154/1154 [==============================] - 5s 4ms/step - loss: 0.3832 - accuracy: 0.8565\n",
            "Epoch 26/100\n",
            "1154/1154 [==============================] - 4s 3ms/step - loss: 0.3807 - accuracy: 0.8588\n",
            "Epoch 27/100\n",
            "1154/1154 [==============================] - 4s 3ms/step - loss: 0.3799 - accuracy: 0.8584\n",
            "Epoch 28/100\n",
            "1154/1154 [==============================] - 5s 4ms/step - loss: 0.3779 - accuracy: 0.8593\n",
            "Epoch 29/100\n",
            "1154/1154 [==============================] - 4s 3ms/step - loss: 0.3733 - accuracy: 0.8618\n",
            "Epoch 30/100\n",
            "1154/1154 [==============================] - 4s 3ms/step - loss: 0.3707 - accuracy: 0.8623\n",
            "Epoch 31/100\n",
            "1154/1154 [==============================] - 5s 4ms/step - loss: 0.3675 - accuracy: 0.8635\n",
            "Epoch 32/100\n",
            "1154/1154 [==============================] - 4s 3ms/step - loss: 0.3671 - accuracy: 0.8613\n",
            "Epoch 33/100\n",
            "1154/1154 [==============================] - 4s 3ms/step - loss: 0.3640 - accuracy: 0.8644\n",
            "Epoch 34/100\n",
            "1154/1154 [==============================] - 5s 4ms/step - loss: 0.3630 - accuracy: 0.8643\n",
            "Epoch 35/100\n",
            "1154/1154 [==============================] - 4s 3ms/step - loss: 0.3600 - accuracy: 0.8665\n",
            "Epoch 36/100\n",
            "1154/1154 [==============================] - 4s 3ms/step - loss: 0.3562 - accuracy: 0.8674\n",
            "Epoch 37/100\n",
            "1154/1154 [==============================] - 5s 4ms/step - loss: 0.3569 - accuracy: 0.8663\n",
            "Epoch 38/100\n",
            "1154/1154 [==============================] - 4s 3ms/step - loss: 0.3536 - accuracy: 0.8688\n",
            "Epoch 39/100\n",
            "1154/1154 [==============================] - 4s 3ms/step - loss: 0.3530 - accuracy: 0.8666\n",
            "Epoch 40/100\n",
            "1154/1154 [==============================] - 5s 4ms/step - loss: 0.3507 - accuracy: 0.8697\n",
            "Epoch 41/100\n",
            "1154/1154 [==============================] - 4s 3ms/step - loss: 0.3509 - accuracy: 0.8690\n",
            "Epoch 42/100\n",
            "1154/1154 [==============================] - 4s 3ms/step - loss: 0.3490 - accuracy: 0.8696\n",
            "Epoch 43/100\n",
            "1154/1154 [==============================] - 4s 4ms/step - loss: 0.3477 - accuracy: 0.8704\n",
            "Epoch 44/100\n",
            "1154/1154 [==============================] - 4s 4ms/step - loss: 0.3450 - accuracy: 0.8710\n",
            "Epoch 45/100\n",
            "1154/1154 [==============================] - 4s 3ms/step - loss: 0.3434 - accuracy: 0.8709\n",
            "Epoch 46/100\n",
            "1154/1154 [==============================] - 4s 4ms/step - loss: 0.3418 - accuracy: 0.8712\n",
            "Epoch 47/100\n",
            "1154/1154 [==============================] - 4s 4ms/step - loss: 0.3405 - accuracy: 0.8727\n",
            "Epoch 48/100\n",
            "1154/1154 [==============================] - 4s 3ms/step - loss: 0.3410 - accuracy: 0.8719\n",
            "Epoch 49/100\n",
            "1154/1154 [==============================] - 4s 3ms/step - loss: 0.3368 - accuracy: 0.8737\n",
            "Epoch 50/100\n",
            "1154/1154 [==============================] - 4s 4ms/step - loss: 0.3372 - accuracy: 0.8731\n",
            "Epoch 51/100\n",
            "1154/1154 [==============================] - 4s 3ms/step - loss: 0.3346 - accuracy: 0.8742\n",
            "Epoch 52/100\n",
            "1154/1154 [==============================] - 4s 3ms/step - loss: 0.3342 - accuracy: 0.8756\n",
            "Epoch 53/100\n",
            "1154/1154 [==============================] - 5s 4ms/step - loss: 0.3336 - accuracy: 0.8760\n",
            "Epoch 54/100\n",
            "1154/1154 [==============================] - 4s 3ms/step - loss: 0.3319 - accuracy: 0.8755\n",
            "Epoch 55/100\n",
            "1154/1154 [==============================] - 4s 3ms/step - loss: 0.3328 - accuracy: 0.8747\n",
            "Epoch 56/100\n",
            "1154/1154 [==============================] - 5s 4ms/step - loss: 0.3306 - accuracy: 0.8761\n",
            "Epoch 57/100\n",
            "1154/1154 [==============================] - 4s 3ms/step - loss: 0.3284 - accuracy: 0.8769\n",
            "Epoch 58/100\n",
            "1154/1154 [==============================] - 4s 3ms/step - loss: 0.3258 - accuracy: 0.8785\n",
            "Epoch 59/100\n",
            "1154/1154 [==============================] - 5s 4ms/step - loss: 0.3285 - accuracy: 0.8768\n",
            "Epoch 60/100\n",
            "1154/1154 [==============================] - 4s 3ms/step - loss: 0.3235 - accuracy: 0.8788\n",
            "Epoch 61/100\n",
            "1154/1154 [==============================] - 5s 4ms/step - loss: 0.3240 - accuracy: 0.8772\n",
            "Epoch 62/100\n",
            "1154/1154 [==============================] - 5s 4ms/step - loss: 0.3233 - accuracy: 0.8791\n",
            "Epoch 63/100\n",
            "1154/1154 [==============================] - 4s 3ms/step - loss: 0.3242 - accuracy: 0.8789\n",
            "Epoch 64/100\n",
            "1154/1154 [==============================] - 4s 3ms/step - loss: 0.3223 - accuracy: 0.8785\n",
            "Epoch 65/100\n",
            "1154/1154 [==============================] - 5s 4ms/step - loss: 0.3200 - accuracy: 0.8790\n",
            "Epoch 66/100\n",
            "1154/1154 [==============================] - 4s 3ms/step - loss: 0.3205 - accuracy: 0.8808\n",
            "Epoch 67/100\n",
            "1154/1154 [==============================] - 4s 3ms/step - loss: 0.3195 - accuracy: 0.8812\n",
            "Epoch 68/100\n",
            "1154/1154 [==============================] - 5s 4ms/step - loss: 0.3187 - accuracy: 0.8802\n",
            "Epoch 69/100\n",
            "1154/1154 [==============================] - 4s 3ms/step - loss: 0.3179 - accuracy: 0.8816\n",
            "Epoch 70/100\n",
            "1154/1154 [==============================] - 4s 3ms/step - loss: 0.3175 - accuracy: 0.8808\n",
            "Epoch 71/100\n",
            "1154/1154 [==============================] - 5s 4ms/step - loss: 0.3173 - accuracy: 0.8813\n",
            "Epoch 72/100\n",
            "1154/1154 [==============================] - 4s 3ms/step - loss: 0.3148 - accuracy: 0.8826\n",
            "Epoch 73/100\n",
            "1154/1154 [==============================] - 4s 3ms/step - loss: 0.3158 - accuracy: 0.8832\n",
            "Epoch 74/100\n",
            "1154/1154 [==============================] - 5s 4ms/step - loss: 0.3145 - accuracy: 0.8824\n",
            "Epoch 75/100\n",
            "1154/1154 [==============================] - 4s 3ms/step - loss: 0.3137 - accuracy: 0.8823\n",
            "Epoch 76/100\n",
            "1154/1154 [==============================] - 4s 3ms/step - loss: 0.3132 - accuracy: 0.8819\n",
            "Epoch 77/100\n",
            "1154/1154 [==============================] - 5s 4ms/step - loss: 0.3133 - accuracy: 0.8820\n",
            "Epoch 78/100\n",
            "1154/1154 [==============================] - 4s 3ms/step - loss: 0.3122 - accuracy: 0.8818\n",
            "Epoch 79/100\n",
            "1154/1154 [==============================] - 4s 3ms/step - loss: 0.3118 - accuracy: 0.8823\n",
            "Epoch 80/100\n",
            "1154/1154 [==============================] - 4s 4ms/step - loss: 0.3102 - accuracy: 0.8857\n",
            "Epoch 81/100\n",
            "1154/1154 [==============================] - 4s 3ms/step - loss: 0.3100 - accuracy: 0.8839\n",
            "Epoch 82/100\n",
            "1154/1154 [==============================] - 4s 3ms/step - loss: 0.3117 - accuracy: 0.8824\n",
            "Epoch 83/100\n",
            "1154/1154 [==============================] - 4s 4ms/step - loss: 0.3080 - accuracy: 0.8846\n",
            "Epoch 84/100\n",
            "1154/1154 [==============================] - 4s 4ms/step - loss: 0.3075 - accuracy: 0.8840\n",
            "Epoch 85/100\n",
            "1154/1154 [==============================] - 4s 3ms/step - loss: 0.3113 - accuracy: 0.8831\n",
            "Epoch 86/100\n",
            "1154/1154 [==============================] - 4s 4ms/step - loss: 0.3075 - accuracy: 0.8845\n",
            "Epoch 87/100\n",
            "1154/1154 [==============================] - 4s 4ms/step - loss: 0.3080 - accuracy: 0.8854\n",
            "Epoch 88/100\n",
            "1154/1154 [==============================] - 4s 3ms/step - loss: 0.3053 - accuracy: 0.8841\n",
            "Epoch 89/100\n",
            "1154/1154 [==============================] - 4s 3ms/step - loss: 0.3082 - accuracy: 0.8853\n",
            "Epoch 90/100\n",
            "1154/1154 [==============================] - 4s 4ms/step - loss: 0.3051 - accuracy: 0.8855\n",
            "Epoch 91/100\n",
            "1154/1154 [==============================] - 4s 3ms/step - loss: 0.3075 - accuracy: 0.8854\n",
            "Epoch 92/100\n",
            "1154/1154 [==============================] - 4s 3ms/step - loss: 0.3036 - accuracy: 0.8863\n",
            "Epoch 93/100\n",
            "1154/1154 [==============================] - 5s 4ms/step - loss: 0.3052 - accuracy: 0.8850\n",
            "Epoch 94/100\n",
            "1154/1154 [==============================] - 4s 3ms/step - loss: 0.3020 - accuracy: 0.8867\n",
            "Epoch 95/100\n",
            "1154/1154 [==============================] - 4s 3ms/step - loss: 0.3028 - accuracy: 0.8854\n",
            "Epoch 96/100\n",
            "1154/1154 [==============================] - 5s 4ms/step - loss: 0.3040 - accuracy: 0.8858\n",
            "Epoch 97/100\n",
            "1154/1154 [==============================] - 4s 3ms/step - loss: 0.3019 - accuracy: 0.8881\n",
            "Epoch 98/100\n",
            "1154/1154 [==============================] - 4s 3ms/step - loss: 0.2995 - accuracy: 0.8868\n",
            "Epoch 99/100\n",
            "1154/1154 [==============================] - 5s 4ms/step - loss: 0.3024 - accuracy: 0.8873\n",
            "Epoch 100/100\n",
            "1154/1154 [==============================] - 4s 3ms/step - loss: 0.2994 - accuracy: 0.8873\n"
          ]
        }
      ]
    },
    {
      "cell_type": "code",
      "source": [
        "print(model_history.history.keys())"
      ],
      "metadata": {
        "colab": {
          "base_uri": "https://localhost:8080/"
        },
        "id": "12aVryC_EbF0",
        "outputId": "32c2b839-1d5c-4e32-d74b-99fa2b80a8d8"
      },
      "execution_count": 31,
      "outputs": [
        {
          "output_type": "stream",
          "name": "stdout",
          "text": [
            "dict_keys(['loss', 'accuracy'])\n"
          ]
        }
      ]
    },
    {
      "cell_type": "code",
      "source": [
        "# Evaluate the model\n",
        "loss , accuracy = model.evaluate(X_test, y_test_encoded)"
      ],
      "metadata": {
        "colab": {
          "base_uri": "https://localhost:8080/"
        },
        "id": "0cuaNn_7Eff3",
        "outputId": "e5cb2859-7c47-4607-f997-5c265c5aa1ac"
      },
      "execution_count": 32,
      "outputs": [
        {
          "output_type": "stream",
          "name": "stdout",
          "text": [
            "289/289 [==============================] - 1s 2ms/step - loss: 0.3685 - accuracy: 0.8684\n"
          ]
        }
      ]
    },
    {
      "cell_type": "code",
      "source": [
        "model.save('/content/my_model')"
      ],
      "metadata": {
        "colab": {
          "base_uri": "https://localhost:8080/"
        },
        "id": "HQmoCjhy6-BL",
        "outputId": "908afe5d-bcf0-4172-bad9-78fc8a52cefd"
      },
      "execution_count": 33,
      "outputs": [
        {
          "output_type": "stream",
          "name": "stderr",
          "text": [
            "WARNING:absl:Found untraced functions such as _update_step_xla while saving (showing 1 of 1). These functions will not be directly callable after loading.\n"
          ]
        }
      ]
    },
    {
      "cell_type": "code",
      "source": [
        "!ls"
      ],
      "metadata": {
        "colab": {
          "base_uri": "https://localhost:8080/"
        },
        "id": "aqrvz7yP7A34",
        "outputId": "8c0bd177-bb05-4bf6-e3b2-11f1d7d0692c"
      },
      "execution_count": 34,
      "outputs": [
        {
          "output_type": "stream",
          "name": "stdout",
          "text": [
            "completeBhageeraPayload.csv  my_model  sample_data\n"
          ]
        }
      ]
    },
    {
      "cell_type": "code",
      "source": [
        "converter = tf.lite.TFLiteConverter.from_saved_model('/content/my_model')"
      ],
      "metadata": {
        "id": "DWMAZL2W7Pnw"
      },
      "execution_count": 35,
      "outputs": []
    },
    {
      "cell_type": "code",
      "source": [
        "converter.target_spec.supported_types = [tf.float32]"
      ],
      "metadata": {
        "id": "SANupw3l8khf"
      },
      "execution_count": 36,
      "outputs": []
    },
    {
      "cell_type": "code",
      "source": [
        "converter.target_spec.supported_ops = [\n",
        "  tf.lite.OpsSet.TFLITE_BUILTINS, # enable TensorFlow Lite ops.\n",
        "  tf.lite.OpsSet.SELECT_TF_OPS # enable TensorFlow ops.\n",
        "]"
      ],
      "metadata": {
        "id": "kDHjfVWXChSr"
      },
      "execution_count": 37,
      "outputs": []
    },
    {
      "cell_type": "code",
      "source": [
        "tflite_model = converter.convert()"
      ],
      "metadata": {
        "id": "ABcg3-Lc7nWG"
      },
      "execution_count": 38,
      "outputs": []
    },
    {
      "cell_type": "code",
      "source": [
        "with open('converted_model.tflite', 'wb') as f:\n",
        "    f.write(tflite_model)"
      ],
      "metadata": {
        "id": "uFUKEfzk6iTZ"
      },
      "execution_count": 44,
      "outputs": []
    },
    {
      "cell_type": "code",
      "source": [
        "open(\"converted_model.tflite\", \"wb\").write(tflite_model)"
      ],
      "metadata": {
        "colab": {
          "base_uri": "https://localhost:8080/"
        },
        "id": "p7LQQs0LCuGR",
        "outputId": "cf77c444-1c84-4ba1-e3d0-00cf67f9f96b"
      },
      "execution_count": 45,
      "outputs": [
        {
          "output_type": "execute_result",
          "data": {
            "text/plain": [
              "22384"
            ]
          },
          "metadata": {},
          "execution_count": 45
        }
      ]
    },
    {
      "cell_type": "code",
      "source": [
        "# Load the converted TFLite model\n",
        "interpreter = tf.lite.Interpreter(model_path=\"converted_model.tflite\")\n",
        "try:\n",
        "    interpreter.allocate_tensors()\n",
        "    print(\"Model converted to TFLite successfully!\")\n",
        "except ValueError as e:\n",
        "    print(\"Error loading the TFLite model:\", e)"
      ],
      "metadata": {
        "colab": {
          "base_uri": "https://localhost:8080/"
        },
        "id": "SsuwMglgFlnS",
        "outputId": "57f26513-f846-46f1-f481-c69e24031fe1"
      },
      "execution_count": 46,
      "outputs": [
        {
          "output_type": "stream",
          "name": "stdout",
          "text": [
            "Model converted to TFLite successfully!\n"
          ]
        }
      ]
    },
    {
      "cell_type": "code",
      "source": [
        "!ls"
      ],
      "metadata": {
        "colab": {
          "base_uri": "https://localhost:8080/"
        },
        "id": "ElWi8TeO6oCX",
        "outputId": "933cd72f-14f5-4cba-e3db-ca87c0fa15ce"
      },
      "execution_count": 47,
      "outputs": [
        {
          "output_type": "stream",
          "name": "stdout",
          "text": [
            "completeBhageeraPayload.csv  converted_model.tflite  my_model  sample_data\n"
          ]
        }
      ]
    }
  ]
}