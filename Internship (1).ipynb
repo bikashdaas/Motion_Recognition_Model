{
  "nbformat": 4,
  "nbformat_minor": 0,
  "metadata": {
    "colab": {
      "provenance": []
    },
    "kernelspec": {
      "name": "python3",
      "display_name": "Python 3"
    },
    "language_info": {
      "name": "python"
    }
  },
  "cells": [
    {
      "cell_type": "code",
      "execution_count": null,
      "metadata": {
        "id": "hlB1WzY90UUY"
      },
      "outputs": [],
      "source": [
        "import numpy as np\n",
        "import pandas as pd\n",
        "import tensorflow as tf\n",
        "from tensorflow import keras\n",
        "from keras import models,layers\n",
        "import matplotlib.pyplot as plt"
      ]
    },
    {
      "cell_type": "code",
      "source": [
        "df = pd.read_csv('/content/completeBhageeraPayload.csv')"
      ],
      "metadata": {
        "id": "PEYbGEkR3LoG"
      },
      "execution_count": null,
      "outputs": []
    },
    {
      "cell_type": "code",
      "source": [
        "df.head(5)"
      ],
      "metadata": {
        "colab": {
          "base_uri": "https://localhost:8080/",
          "height": 206
        },
        "id": "q5nNwhDW3XWX",
        "outputId": "828b226b-db09-4129-a65b-b3552ff72525"
      },
      "execution_count": null,
      "outputs": [
        {
          "output_type": "execute_result",
          "data": {
            "text/plain": [
              "      mlid        ax        ay        az         gx         gy         gz\n",
              "0  Walking -0.430176  0.611572 -0.747803 -17.633587 -55.404579   4.854962\n",
              "1  Walking -0.600586  0.668945 -0.920898  10.916031  88.320610 -46.167938\n",
              "2  Walking -0.390137  0.568115 -0.972168 -23.702290   9.648855 -15.167939\n",
              "3  Walking -1.108887  0.886475 -0.582275  70.381676 -85.572517  47.000000\n",
              "4  Walking -0.442139  0.665039 -0.820068  44.259541 -87.793892  49.152672"
            ],
            "text/html": [
              "\n",
              "  <div id=\"df-0c28761f-7195-4a79-8b67-3c6183327e6c\">\n",
              "    <div class=\"colab-df-container\">\n",
              "      <div>\n",
              "<style scoped>\n",
              "    .dataframe tbody tr th:only-of-type {\n",
              "        vertical-align: middle;\n",
              "    }\n",
              "\n",
              "    .dataframe tbody tr th {\n",
              "        vertical-align: top;\n",
              "    }\n",
              "\n",
              "    .dataframe thead th {\n",
              "        text-align: right;\n",
              "    }\n",
              "</style>\n",
              "<table border=\"1\" class=\"dataframe\">\n",
              "  <thead>\n",
              "    <tr style=\"text-align: right;\">\n",
              "      <th></th>\n",
              "      <th>mlid</th>\n",
              "      <th>ax</th>\n",
              "      <th>ay</th>\n",
              "      <th>az</th>\n",
              "      <th>gx</th>\n",
              "      <th>gy</th>\n",
              "      <th>gz</th>\n",
              "    </tr>\n",
              "  </thead>\n",
              "  <tbody>\n",
              "    <tr>\n",
              "      <th>0</th>\n",
              "      <td>Walking</td>\n",
              "      <td>-0.430176</td>\n",
              "      <td>0.611572</td>\n",
              "      <td>-0.747803</td>\n",
              "      <td>-17.633587</td>\n",
              "      <td>-55.404579</td>\n",
              "      <td>4.854962</td>\n",
              "    </tr>\n",
              "    <tr>\n",
              "      <th>1</th>\n",
              "      <td>Walking</td>\n",
              "      <td>-0.600586</td>\n",
              "      <td>0.668945</td>\n",
              "      <td>-0.920898</td>\n",
              "      <td>10.916031</td>\n",
              "      <td>88.320610</td>\n",
              "      <td>-46.167938</td>\n",
              "    </tr>\n",
              "    <tr>\n",
              "      <th>2</th>\n",
              "      <td>Walking</td>\n",
              "      <td>-0.390137</td>\n",
              "      <td>0.568115</td>\n",
              "      <td>-0.972168</td>\n",
              "      <td>-23.702290</td>\n",
              "      <td>9.648855</td>\n",
              "      <td>-15.167939</td>\n",
              "    </tr>\n",
              "    <tr>\n",
              "      <th>3</th>\n",
              "      <td>Walking</td>\n",
              "      <td>-1.108887</td>\n",
              "      <td>0.886475</td>\n",
              "      <td>-0.582275</td>\n",
              "      <td>70.381676</td>\n",
              "      <td>-85.572517</td>\n",
              "      <td>47.000000</td>\n",
              "    </tr>\n",
              "    <tr>\n",
              "      <th>4</th>\n",
              "      <td>Walking</td>\n",
              "      <td>-0.442139</td>\n",
              "      <td>0.665039</td>\n",
              "      <td>-0.820068</td>\n",
              "      <td>44.259541</td>\n",
              "      <td>-87.793892</td>\n",
              "      <td>49.152672</td>\n",
              "    </tr>\n",
              "  </tbody>\n",
              "</table>\n",
              "</div>\n",
              "      <button class=\"colab-df-convert\" onclick=\"convertToInteractive('df-0c28761f-7195-4a79-8b67-3c6183327e6c')\"\n",
              "              title=\"Convert this dataframe to an interactive table.\"\n",
              "              style=\"display:none;\">\n",
              "        \n",
              "  <svg xmlns=\"http://www.w3.org/2000/svg\" height=\"24px\"viewBox=\"0 0 24 24\"\n",
              "       width=\"24px\">\n",
              "    <path d=\"M0 0h24v24H0V0z\" fill=\"none\"/>\n",
              "    <path d=\"M18.56 5.44l.94 2.06.94-2.06 2.06-.94-2.06-.94-.94-2.06-.94 2.06-2.06.94zm-11 1L8.5 8.5l.94-2.06 2.06-.94-2.06-.94L8.5 2.5l-.94 2.06-2.06.94zm10 10l.94 2.06.94-2.06 2.06-.94-2.06-.94-.94-2.06-.94 2.06-2.06.94z\"/><path d=\"M17.41 7.96l-1.37-1.37c-.4-.4-.92-.59-1.43-.59-.52 0-1.04.2-1.43.59L10.3 9.45l-7.72 7.72c-.78.78-.78 2.05 0 2.83L4 21.41c.39.39.9.59 1.41.59.51 0 1.02-.2 1.41-.59l7.78-7.78 2.81-2.81c.8-.78.8-2.07 0-2.86zM5.41 20L4 18.59l7.72-7.72 1.47 1.35L5.41 20z\"/>\n",
              "  </svg>\n",
              "      </button>\n",
              "      \n",
              "  <style>\n",
              "    .colab-df-container {\n",
              "      display:flex;\n",
              "      flex-wrap:wrap;\n",
              "      gap: 12px;\n",
              "    }\n",
              "\n",
              "    .colab-df-convert {\n",
              "      background-color: #E8F0FE;\n",
              "      border: none;\n",
              "      border-radius: 50%;\n",
              "      cursor: pointer;\n",
              "      display: none;\n",
              "      fill: #1967D2;\n",
              "      height: 32px;\n",
              "      padding: 0 0 0 0;\n",
              "      width: 32px;\n",
              "    }\n",
              "\n",
              "    .colab-df-convert:hover {\n",
              "      background-color: #E2EBFA;\n",
              "      box-shadow: 0px 1px 2px rgba(60, 64, 67, 0.3), 0px 1px 3px 1px rgba(60, 64, 67, 0.15);\n",
              "      fill: #174EA6;\n",
              "    }\n",
              "\n",
              "    [theme=dark] .colab-df-convert {\n",
              "      background-color: #3B4455;\n",
              "      fill: #D2E3FC;\n",
              "    }\n",
              "\n",
              "    [theme=dark] .colab-df-convert:hover {\n",
              "      background-color: #434B5C;\n",
              "      box-shadow: 0px 1px 3px 1px rgba(0, 0, 0, 0.15);\n",
              "      filter: drop-shadow(0px 1px 2px rgba(0, 0, 0, 0.3));\n",
              "      fill: #FFFFFF;\n",
              "    }\n",
              "  </style>\n",
              "\n",
              "      <script>\n",
              "        const buttonEl =\n",
              "          document.querySelector('#df-0c28761f-7195-4a79-8b67-3c6183327e6c button.colab-df-convert');\n",
              "        buttonEl.style.display =\n",
              "          google.colab.kernel.accessAllowed ? 'block' : 'none';\n",
              "\n",
              "        async function convertToInteractive(key) {\n",
              "          const element = document.querySelector('#df-0c28761f-7195-4a79-8b67-3c6183327e6c');\n",
              "          const dataTable =\n",
              "            await google.colab.kernel.invokeFunction('convertToInteractive',\n",
              "                                                     [key], {});\n",
              "          if (!dataTable) return;\n",
              "\n",
              "          const docLinkHtml = 'Like what you see? Visit the ' +\n",
              "            '<a target=\"_blank\" href=https://colab.research.google.com/notebooks/data_table.ipynb>data table notebook</a>'\n",
              "            + ' to learn more about interactive tables.';\n",
              "          element.innerHTML = '';\n",
              "          dataTable['output_type'] = 'display_data';\n",
              "          await google.colab.output.renderOutput(dataTable, element);\n",
              "          const docLink = document.createElement('div');\n",
              "          docLink.innerHTML = docLinkHtml;\n",
              "          element.appendChild(docLink);\n",
              "        }\n",
              "      </script>\n",
              "    </div>\n",
              "  </div>\n",
              "  "
            ]
          },
          "metadata": {},
          "execution_count": 6
        }
      ]
    },
    {
      "cell_type": "code",
      "source": [
        "df['mlid'].value_counts() #data is imbalanced"
      ],
      "metadata": {
        "colab": {
          "base_uri": "https://localhost:8080/"
        },
        "id": "HiiGNNTF3p53",
        "outputId": "f4ad7f32-9247-4f71-97f3-ecd5dbba8707"
      },
      "execution_count": null,
      "outputs": [
        {
          "output_type": "execute_result",
          "data": {
            "text/plain": [
              "Rest        8141\n",
              "Sleep       5753\n",
              "Walking     5241\n",
              "Running     3698\n",
              "Standing    1757\n",
              "Sitting      839\n",
              "Name: mlid, dtype: int64"
            ]
          },
          "metadata": {},
          "execution_count": 8
        }
      ]
    },
    {
      "cell_type": "code",
      "source": [
        "from sklearn.preprocessing import LabelEncoder\n",
        "yle = LabelEncoder()\n",
        "df['mlid'] = yle.fit_transform(df['mlid'])"
      ],
      "metadata": {
        "id": "OJMoXf_134Ed"
      },
      "execution_count": null,
      "outputs": []
    },
    {
      "cell_type": "code",
      "source": [
        "df['mlid'].value_counts() "
      ],
      "metadata": {
        "colab": {
          "base_uri": "https://localhost:8080/"
        },
        "id": "psZ4n8D14TnZ",
        "outputId": "4ffb4e64-0838-427d-9132-0c81a8eabced"
      },
      "execution_count": null,
      "outputs": [
        {
          "output_type": "execute_result",
          "data": {
            "text/plain": [
              "0    8141\n",
              "3    5753\n",
              "5    5241\n",
              "1    3698\n",
              "4    1757\n",
              "2     839\n",
              "Name: mlid, dtype: int64"
            ]
          },
          "metadata": {},
          "execution_count": 10
        }
      ]
    },
    {
      "cell_type": "code",
      "source": [
        "X = df.drop('mlid', axis =1)\n",
        "Y= df['mlid']"
      ],
      "metadata": {
        "id": "PndgNrNh4v0G"
      },
      "execution_count": null,
      "outputs": []
    },
    {
      "cell_type": "code",
      "source": [
        "X.head(5)"
      ],
      "metadata": {
        "colab": {
          "base_uri": "https://localhost:8080/",
          "height": 206
        },
        "id": "Z9cG-ZA749Za",
        "outputId": "3d64d185-07af-454d-94f9-9d117e7a7c84"
      },
      "execution_count": null,
      "outputs": [
        {
          "output_type": "execute_result",
          "data": {
            "text/plain": [
              "         ax        ay        az         gx         gy         gz\n",
              "0 -0.430176  0.611572 -0.747803 -17.633587 -55.404579   4.854962\n",
              "1 -0.600586  0.668945 -0.920898  10.916031  88.320610 -46.167938\n",
              "2 -0.390137  0.568115 -0.972168 -23.702290   9.648855 -15.167939\n",
              "3 -1.108887  0.886475 -0.582275  70.381676 -85.572517  47.000000\n",
              "4 -0.442139  0.665039 -0.820068  44.259541 -87.793892  49.152672"
            ],
            "text/html": [
              "\n",
              "  <div id=\"df-4c52f19a-6c21-45ee-a43f-8d1aba0a3c23\">\n",
              "    <div class=\"colab-df-container\">\n",
              "      <div>\n",
              "<style scoped>\n",
              "    .dataframe tbody tr th:only-of-type {\n",
              "        vertical-align: middle;\n",
              "    }\n",
              "\n",
              "    .dataframe tbody tr th {\n",
              "        vertical-align: top;\n",
              "    }\n",
              "\n",
              "    .dataframe thead th {\n",
              "        text-align: right;\n",
              "    }\n",
              "</style>\n",
              "<table border=\"1\" class=\"dataframe\">\n",
              "  <thead>\n",
              "    <tr style=\"text-align: right;\">\n",
              "      <th></th>\n",
              "      <th>ax</th>\n",
              "      <th>ay</th>\n",
              "      <th>az</th>\n",
              "      <th>gx</th>\n",
              "      <th>gy</th>\n",
              "      <th>gz</th>\n",
              "    </tr>\n",
              "  </thead>\n",
              "  <tbody>\n",
              "    <tr>\n",
              "      <th>0</th>\n",
              "      <td>-0.430176</td>\n",
              "      <td>0.611572</td>\n",
              "      <td>-0.747803</td>\n",
              "      <td>-17.633587</td>\n",
              "      <td>-55.404579</td>\n",
              "      <td>4.854962</td>\n",
              "    </tr>\n",
              "    <tr>\n",
              "      <th>1</th>\n",
              "      <td>-0.600586</td>\n",
              "      <td>0.668945</td>\n",
              "      <td>-0.920898</td>\n",
              "      <td>10.916031</td>\n",
              "      <td>88.320610</td>\n",
              "      <td>-46.167938</td>\n",
              "    </tr>\n",
              "    <tr>\n",
              "      <th>2</th>\n",
              "      <td>-0.390137</td>\n",
              "      <td>0.568115</td>\n",
              "      <td>-0.972168</td>\n",
              "      <td>-23.702290</td>\n",
              "      <td>9.648855</td>\n",
              "      <td>-15.167939</td>\n",
              "    </tr>\n",
              "    <tr>\n",
              "      <th>3</th>\n",
              "      <td>-1.108887</td>\n",
              "      <td>0.886475</td>\n",
              "      <td>-0.582275</td>\n",
              "      <td>70.381676</td>\n",
              "      <td>-85.572517</td>\n",
              "      <td>47.000000</td>\n",
              "    </tr>\n",
              "    <tr>\n",
              "      <th>4</th>\n",
              "      <td>-0.442139</td>\n",
              "      <td>0.665039</td>\n",
              "      <td>-0.820068</td>\n",
              "      <td>44.259541</td>\n",
              "      <td>-87.793892</td>\n",
              "      <td>49.152672</td>\n",
              "    </tr>\n",
              "  </tbody>\n",
              "</table>\n",
              "</div>\n",
              "      <button class=\"colab-df-convert\" onclick=\"convertToInteractive('df-4c52f19a-6c21-45ee-a43f-8d1aba0a3c23')\"\n",
              "              title=\"Convert this dataframe to an interactive table.\"\n",
              "              style=\"display:none;\">\n",
              "        \n",
              "  <svg xmlns=\"http://www.w3.org/2000/svg\" height=\"24px\"viewBox=\"0 0 24 24\"\n",
              "       width=\"24px\">\n",
              "    <path d=\"M0 0h24v24H0V0z\" fill=\"none\"/>\n",
              "    <path d=\"M18.56 5.44l.94 2.06.94-2.06 2.06-.94-2.06-.94-.94-2.06-.94 2.06-2.06.94zm-11 1L8.5 8.5l.94-2.06 2.06-.94-2.06-.94L8.5 2.5l-.94 2.06-2.06.94zm10 10l.94 2.06.94-2.06 2.06-.94-2.06-.94-.94-2.06-.94 2.06-2.06.94z\"/><path d=\"M17.41 7.96l-1.37-1.37c-.4-.4-.92-.59-1.43-.59-.52 0-1.04.2-1.43.59L10.3 9.45l-7.72 7.72c-.78.78-.78 2.05 0 2.83L4 21.41c.39.39.9.59 1.41.59.51 0 1.02-.2 1.41-.59l7.78-7.78 2.81-2.81c.8-.78.8-2.07 0-2.86zM5.41 20L4 18.59l7.72-7.72 1.47 1.35L5.41 20z\"/>\n",
              "  </svg>\n",
              "      </button>\n",
              "      \n",
              "  <style>\n",
              "    .colab-df-container {\n",
              "      display:flex;\n",
              "      flex-wrap:wrap;\n",
              "      gap: 12px;\n",
              "    }\n",
              "\n",
              "    .colab-df-convert {\n",
              "      background-color: #E8F0FE;\n",
              "      border: none;\n",
              "      border-radius: 50%;\n",
              "      cursor: pointer;\n",
              "      display: none;\n",
              "      fill: #1967D2;\n",
              "      height: 32px;\n",
              "      padding: 0 0 0 0;\n",
              "      width: 32px;\n",
              "    }\n",
              "\n",
              "    .colab-df-convert:hover {\n",
              "      background-color: #E2EBFA;\n",
              "      box-shadow: 0px 1px 2px rgba(60, 64, 67, 0.3), 0px 1px 3px 1px rgba(60, 64, 67, 0.15);\n",
              "      fill: #174EA6;\n",
              "    }\n",
              "\n",
              "    [theme=dark] .colab-df-convert {\n",
              "      background-color: #3B4455;\n",
              "      fill: #D2E3FC;\n",
              "    }\n",
              "\n",
              "    [theme=dark] .colab-df-convert:hover {\n",
              "      background-color: #434B5C;\n",
              "      box-shadow: 0px 1px 3px 1px rgba(0, 0, 0, 0.15);\n",
              "      filter: drop-shadow(0px 1px 2px rgba(0, 0, 0, 0.3));\n",
              "      fill: #FFFFFF;\n",
              "    }\n",
              "  </style>\n",
              "\n",
              "      <script>\n",
              "        const buttonEl =\n",
              "          document.querySelector('#df-4c52f19a-6c21-45ee-a43f-8d1aba0a3c23 button.colab-df-convert');\n",
              "        buttonEl.style.display =\n",
              "          google.colab.kernel.accessAllowed ? 'block' : 'none';\n",
              "\n",
              "        async function convertToInteractive(key) {\n",
              "          const element = document.querySelector('#df-4c52f19a-6c21-45ee-a43f-8d1aba0a3c23');\n",
              "          const dataTable =\n",
              "            await google.colab.kernel.invokeFunction('convertToInteractive',\n",
              "                                                     [key], {});\n",
              "          if (!dataTable) return;\n",
              "\n",
              "          const docLinkHtml = 'Like what you see? Visit the ' +\n",
              "            '<a target=\"_blank\" href=https://colab.research.google.com/notebooks/data_table.ipynb>data table notebook</a>'\n",
              "            + ' to learn more about interactive tables.';\n",
              "          element.innerHTML = '';\n",
              "          dataTable['output_type'] = 'display_data';\n",
              "          await google.colab.output.renderOutput(dataTable, element);\n",
              "          const docLink = document.createElement('div');\n",
              "          docLink.innerHTML = docLinkHtml;\n",
              "          element.appendChild(docLink);\n",
              "        }\n",
              "      </script>\n",
              "    </div>\n",
              "  </div>\n",
              "  "
            ]
          },
          "metadata": {},
          "execution_count": 13
        }
      ]
    },
    {
      "cell_type": "code",
      "source": [
        "from imblearn.combine import SMOTETomek\n",
        "smk = SMOTETomek(random_state = 42)"
      ],
      "metadata": {
        "id": "IFZ255UE6il-"
      },
      "execution_count": null,
      "outputs": []
    },
    {
      "cell_type": "code",
      "source": [
        "# resampling th data\n",
        "X_resampled , Y_resampled = smk.fit_resample(X, Y)"
      ],
      "metadata": {
        "id": "TU4mpI5D7gaq"
      },
      "execution_count": null,
      "outputs": []
    },
    {
      "cell_type": "code",
      "source": [
        "Y_resampled.value_counts() #data is now balanced"
      ],
      "metadata": {
        "colab": {
          "base_uri": "https://localhost:8080/"
        },
        "id": "NeFMuwlU73o_",
        "outputId": "002b781c-e835-4314-c952-af199393cacd"
      },
      "execution_count": null,
      "outputs": [
        {
          "output_type": "execute_result",
          "data": {
            "text/plain": [
              "3    7935\n",
              "2    7850\n",
              "4    7830\n",
              "1    7696\n",
              "5    7483\n",
              "0    7340\n",
              "Name: mlid, dtype: int64"
            ]
          },
          "metadata": {},
          "execution_count": 17
        }
      ]
    },
    {
      "cell_type": "code",
      "source": [
        "# Splitting the data into training and testing set\n",
        "from sklearn.model_selection import train_test_split\n",
        "X_train, X_test, Y_train, Y_test = train_test_split(X_resampled,Y_resampled, test_size=0.2, random_state=0)"
      ],
      "metadata": {
        "id": "SErwiTrF8Gd8"
      },
      "execution_count": null,
      "outputs": []
    },
    {
      "cell_type": "code",
      "source": [
        "import tensorflow as tf\n",
        "from tensorflow.keras.models import Sequential\n",
        "from tensorflow.keras.layers import Dense\n",
        "from tensorflow.keras.utils import to_categorical"
      ],
      "metadata": {
        "id": "3OlgCcKw9Oph"
      },
      "execution_count": null,
      "outputs": []
    },
    {
      "cell_type": "code",
      "source": [
        "# Convert the labels to one-hot encoded vectors\n",
        "num_classes = 6 #number of unique classes\n",
        "y_train_encoded = to_categorical(Y_train, num_classes = num_classes)\n",
        "y_test_encoded = to_categorical(Y_test, num_classes = num_classes)"
      ],
      "metadata": {
        "id": "Bdc84kl7_Rpf"
      },
      "execution_count": null,
      "outputs": []
    },
    {
      "cell_type": "code",
      "source": [
        "y_train_encoded"
      ],
      "metadata": {
        "colab": {
          "base_uri": "https://localhost:8080/"
        },
        "id": "kC9mXWEp_swz",
        "outputId": "43c6df0f-4d99-43b2-c41f-37ee12f81a29"
      },
      "execution_count": null,
      "outputs": [
        {
          "output_type": "execute_result",
          "data": {
            "text/plain": [
              "array([[1., 0., 0., 0., 0., 0.],\n",
              "       [0., 0., 0., 1., 0., 0.],\n",
              "       [1., 0., 0., 0., 0., 0.],\n",
              "       ...,\n",
              "       [0., 0., 0., 0., 1., 0.],\n",
              "       [0., 0., 0., 0., 0., 1.],\n",
              "       [0., 0., 0., 0., 0., 1.]], dtype=float32)"
            ]
          },
          "metadata": {},
          "execution_count": 25
        }
      ]
    },
    {
      "cell_type": "code",
      "source": [
        "# Define the architecture of the ANN model\n",
        "model = Sequential()\n",
        "model.add(Dense(64, activation = 'relu')) # input_dim represents the number of input features\n",
        "model.add(Dense(64, activation = 'relu'))\n",
        "model.add(Dense(64, activation = 'relu'))\n",
        "model.add(Dense(num_classes, activation = 'softmax'))   # Output layer with softmax activation for multiclass classification"
      ],
      "metadata": {
        "id": "RPgk5C2y_67H"
      },
      "execution_count": null,
      "outputs": []
    },
    {
      "cell_type": "code",
      "source": [
        "model.compile(loss = 'categorical_crossentropy', optimizer = 'adam', metrics = ['accuracy'])"
      ],
      "metadata": {
        "id": "UeybJG63A2YW"
      },
      "execution_count": null,
      "outputs": []
    },
    {
      "cell_type": "code",
      "source": [
        "model_history = model.fit(X_train, y_train_encoded, epochs = 100, batch_size = 32)"
      ],
      "metadata": {
        "colab": {
          "base_uri": "https://localhost:8080/"
        },
        "id": "ehMjkRonBW5f",
        "outputId": "8815f965-335a-4ccf-a89e-b6caf5e4cfa3"
      },
      "execution_count": null,
      "outputs": [
        {
          "output_type": "stream",
          "name": "stdout",
          "text": [
            "Epoch 1/100\n",
            "1154/1154 [==============================] - 4s 2ms/step - loss: 1.0207 - accuracy: 0.5937\n",
            "Epoch 2/100\n",
            "1154/1154 [==============================] - 2s 2ms/step - loss: 0.6476 - accuracy: 0.7459\n",
            "Epoch 3/100\n",
            "1154/1154 [==============================] - 2s 2ms/step - loss: 0.5699 - accuracy: 0.7819\n",
            "Epoch 4/100\n",
            "1154/1154 [==============================] - 2s 2ms/step - loss: 0.5378 - accuracy: 0.7964\n",
            "Epoch 5/100\n",
            "1154/1154 [==============================] - 2s 2ms/step - loss: 0.5127 - accuracy: 0.8062\n",
            "Epoch 6/100\n",
            "1154/1154 [==============================] - 3s 3ms/step - loss: 0.4898 - accuracy: 0.8163\n",
            "Epoch 7/100\n",
            "1154/1154 [==============================] - 3s 2ms/step - loss: 0.4700 - accuracy: 0.8240\n",
            "Epoch 8/100\n",
            "1154/1154 [==============================] - 3s 2ms/step - loss: 0.4541 - accuracy: 0.8293\n",
            "Epoch 9/100\n",
            "1154/1154 [==============================] - 2s 2ms/step - loss: 0.4361 - accuracy: 0.8355\n",
            "Epoch 10/100\n",
            "1154/1154 [==============================] - 2s 2ms/step - loss: 0.4258 - accuracy: 0.8398\n",
            "Epoch 11/100\n",
            "1154/1154 [==============================] - 3s 2ms/step - loss: 0.4170 - accuracy: 0.8460\n",
            "Epoch 12/100\n",
            "1154/1154 [==============================] - 2s 2ms/step - loss: 0.4125 - accuracy: 0.8462\n",
            "Epoch 13/100\n",
            "1154/1154 [==============================] - 2s 2ms/step - loss: 0.4018 - accuracy: 0.8483\n",
            "Epoch 14/100\n",
            "1154/1154 [==============================] - 2s 2ms/step - loss: 0.3920 - accuracy: 0.8535\n",
            "Epoch 15/100\n",
            "1154/1154 [==============================] - 2s 2ms/step - loss: 0.3852 - accuracy: 0.8546\n",
            "Epoch 16/100\n",
            "1154/1154 [==============================] - 2s 2ms/step - loss: 0.3801 - accuracy: 0.8571\n",
            "Epoch 17/100\n",
            "1154/1154 [==============================] - 3s 3ms/step - loss: 0.3720 - accuracy: 0.8601\n",
            "Epoch 18/100\n",
            "1154/1154 [==============================] - 2s 2ms/step - loss: 0.3662 - accuracy: 0.8608\n",
            "Epoch 19/100\n",
            "1154/1154 [==============================] - 2s 2ms/step - loss: 0.3622 - accuracy: 0.8651\n",
            "Epoch 20/100\n",
            "1154/1154 [==============================] - 2s 2ms/step - loss: 0.3574 - accuracy: 0.8645\n",
            "Epoch 21/100\n",
            "1154/1154 [==============================] - 2s 2ms/step - loss: 0.3527 - accuracy: 0.8665\n",
            "Epoch 22/100\n",
            "1154/1154 [==============================] - 2s 2ms/step - loss: 0.3463 - accuracy: 0.8680\n",
            "Epoch 23/100\n",
            "1154/1154 [==============================] - 3s 2ms/step - loss: 0.3423 - accuracy: 0.8721\n",
            "Epoch 24/100\n",
            "1154/1154 [==============================] - 2s 2ms/step - loss: 0.3387 - accuracy: 0.8724\n",
            "Epoch 25/100\n",
            "1154/1154 [==============================] - 2s 2ms/step - loss: 0.3363 - accuracy: 0.8731\n",
            "Epoch 26/100\n",
            "1154/1154 [==============================] - 2s 2ms/step - loss: 0.3311 - accuracy: 0.8746\n",
            "Epoch 27/100\n",
            "1154/1154 [==============================] - 2s 2ms/step - loss: 0.3294 - accuracy: 0.8760\n",
            "Epoch 28/100\n",
            "1154/1154 [==============================] - 3s 2ms/step - loss: 0.3264 - accuracy: 0.8764\n",
            "Epoch 29/100\n",
            "1154/1154 [==============================] - 2s 2ms/step - loss: 0.3225 - accuracy: 0.8770\n",
            "Epoch 30/100\n",
            "1154/1154 [==============================] - 2s 2ms/step - loss: 0.3209 - accuracy: 0.8792\n",
            "Epoch 31/100\n",
            "1154/1154 [==============================] - 2s 2ms/step - loss: 0.3142 - accuracy: 0.8807\n",
            "Epoch 32/100\n",
            "1154/1154 [==============================] - 2s 2ms/step - loss: 0.3110 - accuracy: 0.8823\n",
            "Epoch 33/100\n",
            "1154/1154 [==============================] - 2s 2ms/step - loss: 0.3126 - accuracy: 0.8816\n",
            "Epoch 34/100\n",
            "1154/1154 [==============================] - 3s 3ms/step - loss: 0.3065 - accuracy: 0.8831\n",
            "Epoch 35/100\n",
            "1154/1154 [==============================] - 2s 2ms/step - loss: 0.3058 - accuracy: 0.8843\n",
            "Epoch 36/100\n",
            "1154/1154 [==============================] - 2s 2ms/step - loss: 0.3054 - accuracy: 0.8841\n",
            "Epoch 37/100\n",
            "1154/1154 [==============================] - 2s 2ms/step - loss: 0.2996 - accuracy: 0.8860\n",
            "Epoch 38/100\n",
            "1154/1154 [==============================] - 2s 2ms/step - loss: 0.2999 - accuracy: 0.8868\n",
            "Epoch 39/100\n",
            "1154/1154 [==============================] - 2s 2ms/step - loss: 0.2931 - accuracy: 0.8892\n",
            "Epoch 40/100\n",
            "1154/1154 [==============================] - 3s 2ms/step - loss: 0.2924 - accuracy: 0.8890\n",
            "Epoch 41/100\n",
            "1154/1154 [==============================] - 2s 2ms/step - loss: 0.2938 - accuracy: 0.8892\n",
            "Epoch 42/100\n",
            "1154/1154 [==============================] - 2s 2ms/step - loss: 0.2888 - accuracy: 0.8889\n",
            "Epoch 43/100\n",
            "1154/1154 [==============================] - 2s 2ms/step - loss: 0.2871 - accuracy: 0.8918\n",
            "Epoch 44/100\n",
            "1154/1154 [==============================] - 2s 2ms/step - loss: 0.2830 - accuracy: 0.8917\n",
            "Epoch 45/100\n",
            "1154/1154 [==============================] - 2s 2ms/step - loss: 0.2853 - accuracy: 0.8910\n",
            "Epoch 46/100\n",
            "1154/1154 [==============================] - 2s 2ms/step - loss: 0.2801 - accuracy: 0.8937\n",
            "Epoch 47/100\n",
            "1154/1154 [==============================] - 2s 2ms/step - loss: 0.2810 - accuracy: 0.8919\n",
            "Epoch 48/100\n",
            "1154/1154 [==============================] - 2s 2ms/step - loss: 0.2760 - accuracy: 0.8939\n",
            "Epoch 49/100\n",
            "1154/1154 [==============================] - 2s 2ms/step - loss: 0.2744 - accuracy: 0.8947\n",
            "Epoch 50/100\n",
            "1154/1154 [==============================] - 2s 2ms/step - loss: 0.2729 - accuracy: 0.8950\n",
            "Epoch 51/100\n",
            "1154/1154 [==============================] - 3s 2ms/step - loss: 0.2733 - accuracy: 0.8954\n",
            "Epoch 52/100\n",
            "1154/1154 [==============================] - 2s 2ms/step - loss: 0.2706 - accuracy: 0.8963\n",
            "Epoch 53/100\n",
            "1154/1154 [==============================] - 2s 2ms/step - loss: 0.2726 - accuracy: 0.8949\n",
            "Epoch 54/100\n",
            "1154/1154 [==============================] - 2s 2ms/step - loss: 0.2688 - accuracy: 0.8977\n",
            "Epoch 55/100\n",
            "1154/1154 [==============================] - 2s 2ms/step - loss: 0.2646 - accuracy: 0.8994\n",
            "Epoch 56/100\n",
            "1154/1154 [==============================] - 2s 2ms/step - loss: 0.2691 - accuracy: 0.8975\n",
            "Epoch 57/100\n",
            "1154/1154 [==============================] - 3s 3ms/step - loss: 0.2655 - accuracy: 0.8972\n",
            "Epoch 58/100\n",
            "1154/1154 [==============================] - 2s 2ms/step - loss: 0.2621 - accuracy: 0.9001\n",
            "Epoch 59/100\n",
            "1154/1154 [==============================] - 2s 2ms/step - loss: 0.2609 - accuracy: 0.9000\n",
            "Epoch 60/100\n",
            "1154/1154 [==============================] - 2s 2ms/step - loss: 0.2624 - accuracy: 0.8994\n",
            "Epoch 61/100\n",
            "1154/1154 [==============================] - 2s 2ms/step - loss: 0.2621 - accuracy: 0.8993\n",
            "Epoch 62/100\n",
            "1154/1154 [==============================] - 2s 2ms/step - loss: 0.2577 - accuracy: 0.8999\n",
            "Epoch 63/100\n",
            "1154/1154 [==============================] - 3s 2ms/step - loss: 0.2581 - accuracy: 0.9024\n",
            "Epoch 64/100\n",
            "1154/1154 [==============================] - 2s 2ms/step - loss: 0.2536 - accuracy: 0.9020\n",
            "Epoch 65/100\n",
            "1154/1154 [==============================] - 2s 2ms/step - loss: 0.2528 - accuracy: 0.9021\n",
            "Epoch 66/100\n",
            "1154/1154 [==============================] - 2s 2ms/step - loss: 0.2532 - accuracy: 0.9030\n",
            "Epoch 67/100\n",
            "1154/1154 [==============================] - 2s 2ms/step - loss: 0.2531 - accuracy: 0.9031\n",
            "Epoch 68/100\n",
            "1154/1154 [==============================] - 2s 2ms/step - loss: 0.2529 - accuracy: 0.9029\n",
            "Epoch 69/100\n",
            "1154/1154 [==============================] - 3s 2ms/step - loss: 0.2489 - accuracy: 0.9042\n",
            "Epoch 70/100\n",
            "1154/1154 [==============================] - 2s 2ms/step - loss: 0.2467 - accuracy: 0.9053\n",
            "Epoch 71/100\n",
            "1154/1154 [==============================] - 2s 2ms/step - loss: 0.2494 - accuracy: 0.9055\n",
            "Epoch 72/100\n",
            "1154/1154 [==============================] - 2s 2ms/step - loss: 0.2470 - accuracy: 0.9049\n",
            "Epoch 73/100\n",
            "1154/1154 [==============================] - 2s 2ms/step - loss: 0.2440 - accuracy: 0.9076\n",
            "Epoch 74/100\n",
            "1154/1154 [==============================] - 3s 2ms/step - loss: 0.2447 - accuracy: 0.9055\n",
            "Epoch 75/100\n",
            "1154/1154 [==============================] - 2s 2ms/step - loss: 0.2431 - accuracy: 0.9074\n",
            "Epoch 76/100\n",
            "1154/1154 [==============================] - 2s 2ms/step - loss: 0.2446 - accuracy: 0.9055\n",
            "Epoch 77/100\n",
            "1154/1154 [==============================] - 2s 2ms/step - loss: 0.2424 - accuracy: 0.9071\n",
            "Epoch 78/100\n",
            "1154/1154 [==============================] - 2s 2ms/step - loss: 0.2392 - accuracy: 0.9074\n",
            "Epoch 79/100\n",
            "1154/1154 [==============================] - 2s 2ms/step - loss: 0.2391 - accuracy: 0.9081\n",
            "Epoch 80/100\n",
            "1154/1154 [==============================] - 3s 2ms/step - loss: 0.2407 - accuracy: 0.9079\n",
            "Epoch 81/100\n",
            "1154/1154 [==============================] - 2s 2ms/step - loss: 0.2391 - accuracy: 0.9089\n",
            "Epoch 82/100\n",
            "1154/1154 [==============================] - 2s 2ms/step - loss: 0.2337 - accuracy: 0.9102\n",
            "Epoch 83/100\n",
            "1154/1154 [==============================] - 2s 2ms/step - loss: 0.2347 - accuracy: 0.9092\n",
            "Epoch 84/100\n",
            "1154/1154 [==============================] - 2s 2ms/step - loss: 0.2315 - accuracy: 0.9107\n",
            "Epoch 85/100\n",
            "1154/1154 [==============================] - 2s 2ms/step - loss: 0.2363 - accuracy: 0.9091\n",
            "Epoch 86/100\n",
            "1154/1154 [==============================] - 3s 3ms/step - loss: 0.2331 - accuracy: 0.9109\n",
            "Epoch 87/100\n",
            "1154/1154 [==============================] - 2s 2ms/step - loss: 0.2332 - accuracy: 0.9113\n",
            "Epoch 88/100\n",
            "1154/1154 [==============================] - 2s 2ms/step - loss: 0.2299 - accuracy: 0.9109\n",
            "Epoch 89/100\n",
            "1154/1154 [==============================] - 2s 2ms/step - loss: 0.2292 - accuracy: 0.9101\n",
            "Epoch 90/100\n",
            "1154/1154 [==============================] - 2s 2ms/step - loss: 0.2301 - accuracy: 0.9116\n",
            "Epoch 91/100\n",
            "1154/1154 [==============================] - 2s 2ms/step - loss: 0.2274 - accuracy: 0.9131\n",
            "Epoch 92/100\n",
            "1154/1154 [==============================] - 3s 2ms/step - loss: 0.2340 - accuracy: 0.9092\n",
            "Epoch 93/100\n",
            "1154/1154 [==============================] - 2s 2ms/step - loss: 0.2259 - accuracy: 0.9132\n",
            "Epoch 94/100\n",
            "1154/1154 [==============================] - 2s 2ms/step - loss: 0.2284 - accuracy: 0.9124\n",
            "Epoch 95/100\n",
            "1154/1154 [==============================] - 2s 2ms/step - loss: 0.2288 - accuracy: 0.9112\n",
            "Epoch 96/100\n",
            "1154/1154 [==============================] - 2s 2ms/step - loss: 0.2247 - accuracy: 0.9152\n",
            "Epoch 97/100\n",
            "1154/1154 [==============================] - 2s 2ms/step - loss: 0.2243 - accuracy: 0.9137\n",
            "Epoch 98/100\n",
            "1154/1154 [==============================] - 3s 2ms/step - loss: 0.2228 - accuracy: 0.9146\n",
            "Epoch 99/100\n",
            "1154/1154 [==============================] - 2s 2ms/step - loss: 0.2234 - accuracy: 0.9142\n",
            "Epoch 100/100\n",
            "1154/1154 [==============================] - 2s 2ms/step - loss: 0.2258 - accuracy: 0.9133\n"
          ]
        }
      ]
    },
    {
      "cell_type": "code",
      "source": [
        "print(model_history.history.keys())"
      ],
      "metadata": {
        "colab": {
          "base_uri": "https://localhost:8080/"
        },
        "id": "12aVryC_EbF0",
        "outputId": "1919c5f8-6b2e-4898-81a0-d5dc9d7dcbdb"
      },
      "execution_count": null,
      "outputs": [
        {
          "output_type": "stream",
          "name": "stdout",
          "text": [
            "dict_keys(['loss', 'accuracy'])\n"
          ]
        }
      ]
    },
    {
      "cell_type": "code",
      "source": [
        "# Evaluate the model\n",
        "loss , accuracy = model.evaluate(X_test, y_test_encoded)"
      ],
      "metadata": {
        "colab": {
          "base_uri": "https://localhost:8080/"
        },
        "id": "0cuaNn_7Eff3",
        "outputId": "340809d8-b9e1-4fef-d175-d293224a501a"
      },
      "execution_count": null,
      "outputs": [
        {
          "output_type": "stream",
          "name": "stdout",
          "text": [
            "289/289 [==============================] - 1s 1ms/step - loss: 0.3488 - accuracy: 0.8876\n"
          ]
        }
      ]
    }
  ]
}