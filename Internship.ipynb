{
  "nbformat": 4,
  "nbformat_minor": 0,
  "metadata": {
    "colab": {
      "provenance": [],
      "gpuType": "T4",
      "authorship_tag": "ABX9TyPimClfWGSG0q7WFGnlUcm8",
      "include_colab_link": true
    },
    "kernelspec": {
      "name": "python3",
      "display_name": "Python 3"
    },
    "language_info": {
      "name": "python"
    },
    "accelerator": "GPU",
    "gpuClass": "standard"
  },
  "cells": [
    {
      "cell_type": "markdown",
      "metadata": {
        "id": "view-in-github",
        "colab_type": "text"
      },
      "source": [
        "<a href=\"https://colab.research.google.com/github/bikashdaas/Motion_Recognition_Model/blob/main/Copy_of_Copy_of_Internship.ipynb\" target=\"_parent\"><img src=\"https://colab.research.google.com/assets/colab-badge.svg\" alt=\"Open In Colab\"/></a>"
      ]
    },
    {
      "cell_type": "code",
      "execution_count": null,
      "metadata": {
        "id": "hlB1WzY90UUY"
      },
      "outputs": [],
      "source": [
        "!pip install --upgrade tensorflow\n",
        "!pip install --upgrade tensorflow-lite"
      ]
    },
    {
      "cell_type": "code",
      "source": [
        "import numpy as np\n",
        "import pandas as pd\n",
        "import tensorflow as tf\n",
        "from tensorflow import keras\n",
        "from keras import models,layers\n",
        "import matplotlib.pyplot as plt"
      ],
      "metadata": {
        "id": "pLouUjGq9rSz"
      },
      "execution_count": null,
      "outputs": []
    },
    {
      "cell_type": "code",
      "source": [
        "df = pd.read_csv('/content/completeBhageeraPayload.csv')"
      ],
      "metadata": {
        "id": "PEYbGEkR3LoG"
      },
      "execution_count": null,
      "outputs": []
    },
    {
      "cell_type": "code",
      "source": [
        "df.head(5)"
      ],
      "metadata": {
        "colab": {
          "base_uri": "https://localhost:8080/",
          "height": 206
        },
        "id": "q5nNwhDW3XWX",
        "outputId": "72582be5-497f-4a83-f03b-09471d5eb695"
      },
      "execution_count": null,
      "outputs": [
        {
          "output_type": "execute_result",
          "data": {
            "text/plain": [
              "      mlid        ax        ay        az         gx         gy         gz\n",
              "0  Walking -0.430176  0.611572 -0.747803 -17.633587 -55.404579   4.854962\n",
              "1  Walking -0.600586  0.668945 -0.920898  10.916031  88.320610 -46.167938\n",
              "2  Walking -0.390137  0.568115 -0.972168 -23.702290   9.648855 -15.167939\n",
              "3  Walking -1.108887  0.886475 -0.582275  70.381676 -85.572517  47.000000\n",
              "4  Walking -0.442139  0.665039 -0.820068  44.259541 -87.793892  49.152672"
            ],
            "text/html": [
              "\n",
              "  <div id=\"df-fc2ade58-1d00-41b9-882c-5bc93bc207d2\">\n",
              "    <div class=\"colab-df-container\">\n",
              "      <div>\n",
              "<style scoped>\n",
              "    .dataframe tbody tr th:only-of-type {\n",
              "        vertical-align: middle;\n",
              "    }\n",
              "\n",
              "    .dataframe tbody tr th {\n",
              "        vertical-align: top;\n",
              "    }\n",
              "\n",
              "    .dataframe thead th {\n",
              "        text-align: right;\n",
              "    }\n",
              "</style>\n",
              "<table border=\"1\" class=\"dataframe\">\n",
              "  <thead>\n",
              "    <tr style=\"text-align: right;\">\n",
              "      <th></th>\n",
              "      <th>mlid</th>\n",
              "      <th>ax</th>\n",
              "      <th>ay</th>\n",
              "      <th>az</th>\n",
              "      <th>gx</th>\n",
              "      <th>gy</th>\n",
              "      <th>gz</th>\n",
              "    </tr>\n",
              "  </thead>\n",
              "  <tbody>\n",
              "    <tr>\n",
              "      <th>0</th>\n",
              "      <td>Walking</td>\n",
              "      <td>-0.430176</td>\n",
              "      <td>0.611572</td>\n",
              "      <td>-0.747803</td>\n",
              "      <td>-17.633587</td>\n",
              "      <td>-55.404579</td>\n",
              "      <td>4.854962</td>\n",
              "    </tr>\n",
              "    <tr>\n",
              "      <th>1</th>\n",
              "      <td>Walking</td>\n",
              "      <td>-0.600586</td>\n",
              "      <td>0.668945</td>\n",
              "      <td>-0.920898</td>\n",
              "      <td>10.916031</td>\n",
              "      <td>88.320610</td>\n",
              "      <td>-46.167938</td>\n",
              "    </tr>\n",
              "    <tr>\n",
              "      <th>2</th>\n",
              "      <td>Walking</td>\n",
              "      <td>-0.390137</td>\n",
              "      <td>0.568115</td>\n",
              "      <td>-0.972168</td>\n",
              "      <td>-23.702290</td>\n",
              "      <td>9.648855</td>\n",
              "      <td>-15.167939</td>\n",
              "    </tr>\n",
              "    <tr>\n",
              "      <th>3</th>\n",
              "      <td>Walking</td>\n",
              "      <td>-1.108887</td>\n",
              "      <td>0.886475</td>\n",
              "      <td>-0.582275</td>\n",
              "      <td>70.381676</td>\n",
              "      <td>-85.572517</td>\n",
              "      <td>47.000000</td>\n",
              "    </tr>\n",
              "    <tr>\n",
              "      <th>4</th>\n",
              "      <td>Walking</td>\n",
              "      <td>-0.442139</td>\n",
              "      <td>0.665039</td>\n",
              "      <td>-0.820068</td>\n",
              "      <td>44.259541</td>\n",
              "      <td>-87.793892</td>\n",
              "      <td>49.152672</td>\n",
              "    </tr>\n",
              "  </tbody>\n",
              "</table>\n",
              "</div>\n",
              "      <button class=\"colab-df-convert\" onclick=\"convertToInteractive('df-fc2ade58-1d00-41b9-882c-5bc93bc207d2')\"\n",
              "              title=\"Convert this dataframe to an interactive table.\"\n",
              "              style=\"display:none;\">\n",
              "        \n",
              "  <svg xmlns=\"http://www.w3.org/2000/svg\" height=\"24px\"viewBox=\"0 0 24 24\"\n",
              "       width=\"24px\">\n",
              "    <path d=\"M0 0h24v24H0V0z\" fill=\"none\"/>\n",
              "    <path d=\"M18.56 5.44l.94 2.06.94-2.06 2.06-.94-2.06-.94-.94-2.06-.94 2.06-2.06.94zm-11 1L8.5 8.5l.94-2.06 2.06-.94-2.06-.94L8.5 2.5l-.94 2.06-2.06.94zm10 10l.94 2.06.94-2.06 2.06-.94-2.06-.94-.94-2.06-.94 2.06-2.06.94z\"/><path d=\"M17.41 7.96l-1.37-1.37c-.4-.4-.92-.59-1.43-.59-.52 0-1.04.2-1.43.59L10.3 9.45l-7.72 7.72c-.78.78-.78 2.05 0 2.83L4 21.41c.39.39.9.59 1.41.59.51 0 1.02-.2 1.41-.59l7.78-7.78 2.81-2.81c.8-.78.8-2.07 0-2.86zM5.41 20L4 18.59l7.72-7.72 1.47 1.35L5.41 20z\"/>\n",
              "  </svg>\n",
              "      </button>\n",
              "      \n",
              "  <style>\n",
              "    .colab-df-container {\n",
              "      display:flex;\n",
              "      flex-wrap:wrap;\n",
              "      gap: 12px;\n",
              "    }\n",
              "\n",
              "    .colab-df-convert {\n",
              "      background-color: #E8F0FE;\n",
              "      border: none;\n",
              "      border-radius: 50%;\n",
              "      cursor: pointer;\n",
              "      display: none;\n",
              "      fill: #1967D2;\n",
              "      height: 32px;\n",
              "      padding: 0 0 0 0;\n",
              "      width: 32px;\n",
              "    }\n",
              "\n",
              "    .colab-df-convert:hover {\n",
              "      background-color: #E2EBFA;\n",
              "      box-shadow: 0px 1px 2px rgba(60, 64, 67, 0.3), 0px 1px 3px 1px rgba(60, 64, 67, 0.15);\n",
              "      fill: #174EA6;\n",
              "    }\n",
              "\n",
              "    [theme=dark] .colab-df-convert {\n",
              "      background-color: #3B4455;\n",
              "      fill: #D2E3FC;\n",
              "    }\n",
              "\n",
              "    [theme=dark] .colab-df-convert:hover {\n",
              "      background-color: #434B5C;\n",
              "      box-shadow: 0px 1px 3px 1px rgba(0, 0, 0, 0.15);\n",
              "      filter: drop-shadow(0px 1px 2px rgba(0, 0, 0, 0.3));\n",
              "      fill: #FFFFFF;\n",
              "    }\n",
              "  </style>\n",
              "\n",
              "      <script>\n",
              "        const buttonEl =\n",
              "          document.querySelector('#df-fc2ade58-1d00-41b9-882c-5bc93bc207d2 button.colab-df-convert');\n",
              "        buttonEl.style.display =\n",
              "          google.colab.kernel.accessAllowed ? 'block' : 'none';\n",
              "\n",
              "        async function convertToInteractive(key) {\n",
              "          const element = document.querySelector('#df-fc2ade58-1d00-41b9-882c-5bc93bc207d2');\n",
              "          const dataTable =\n",
              "            await google.colab.kernel.invokeFunction('convertToInteractive',\n",
              "                                                     [key], {});\n",
              "          if (!dataTable) return;\n",
              "\n",
              "          const docLinkHtml = 'Like what you see? Visit the ' +\n",
              "            '<a target=\"_blank\" href=https://colab.research.google.com/notebooks/data_table.ipynb>data table notebook</a>'\n",
              "            + ' to learn more about interactive tables.';\n",
              "          element.innerHTML = '';\n",
              "          dataTable['output_type'] = 'display_data';\n",
              "          await google.colab.output.renderOutput(dataTable, element);\n",
              "          const docLink = document.createElement('div');\n",
              "          docLink.innerHTML = docLinkHtml;\n",
              "          element.appendChild(docLink);\n",
              "        }\n",
              "      </script>\n",
              "    </div>\n",
              "  </div>\n",
              "  "
            ]
          },
          "metadata": {},
          "execution_count": 41
        }
      ]
    },
    {
      "cell_type": "code",
      "source": [
        "df['mlid'].value_counts() #data is imbalanced"
      ],
      "metadata": {
        "colab": {
          "base_uri": "https://localhost:8080/"
        },
        "id": "HiiGNNTF3p53",
        "outputId": "d4cb8f5f-6dfb-4ced-d649-8b4e83e21be6"
      },
      "execution_count": null,
      "outputs": [
        {
          "output_type": "execute_result",
          "data": {
            "text/plain": [
              "Rest        8141\n",
              "Sleep       5753\n",
              "Walking     5241\n",
              "Running     3698\n",
              "Standing    1757\n",
              "Sitting      839\n",
              "Name: mlid, dtype: int64"
            ]
          },
          "metadata": {},
          "execution_count": 42
        }
      ]
    },
    {
      "cell_type": "code",
      "source": [
        "from sklearn.preprocessing import LabelEncoder\n",
        "yle = LabelEncoder()\n",
        "df['mlid'] = yle.fit_transform(df['mlid'])"
      ],
      "metadata": {
        "id": "OJMoXf_134Ed"
      },
      "execution_count": null,
      "outputs": []
    },
    {
      "cell_type": "code",
      "source": [
        "df['mlid'].value_counts() "
      ],
      "metadata": {
        "colab": {
          "base_uri": "https://localhost:8080/"
        },
        "id": "psZ4n8D14TnZ",
        "outputId": "197d8c54-f2cc-4947-e942-376f1074d133"
      },
      "execution_count": null,
      "outputs": [
        {
          "output_type": "execute_result",
          "data": {
            "text/plain": [
              "0    8141\n",
              "3    5753\n",
              "5    5241\n",
              "1    3698\n",
              "4    1757\n",
              "2     839\n",
              "Name: mlid, dtype: int64"
            ]
          },
          "metadata": {},
          "execution_count": 44
        }
      ]
    },
    {
      "cell_type": "code",
      "source": [
        "X = df.drop('mlid', axis =1)\n",
        "Y= df['mlid']"
      ],
      "metadata": {
        "id": "PndgNrNh4v0G"
      },
      "execution_count": null,
      "outputs": []
    },
    {
      "cell_type": "code",
      "source": [
        "X.head(5)"
      ],
      "metadata": {
        "colab": {
          "base_uri": "https://localhost:8080/",
          "height": 206
        },
        "id": "Z9cG-ZA749Za",
        "outputId": "f994f61e-8dfe-4b36-dc95-0ee8c0f058f0"
      },
      "execution_count": null,
      "outputs": [
        {
          "output_type": "execute_result",
          "data": {
            "text/plain": [
              "         ax        ay        az         gx         gy         gz\n",
              "0 -0.430176  0.611572 -0.747803 -17.633587 -55.404579   4.854962\n",
              "1 -0.600586  0.668945 -0.920898  10.916031  88.320610 -46.167938\n",
              "2 -0.390137  0.568115 -0.972168 -23.702290   9.648855 -15.167939\n",
              "3 -1.108887  0.886475 -0.582275  70.381676 -85.572517  47.000000\n",
              "4 -0.442139  0.665039 -0.820068  44.259541 -87.793892  49.152672"
            ],
            "text/html": [
              "\n",
              "  <div id=\"df-6f157d22-30e5-4372-aa72-54c341e04dab\">\n",
              "    <div class=\"colab-df-container\">\n",
              "      <div>\n",
              "<style scoped>\n",
              "    .dataframe tbody tr th:only-of-type {\n",
              "        vertical-align: middle;\n",
              "    }\n",
              "\n",
              "    .dataframe tbody tr th {\n",
              "        vertical-align: top;\n",
              "    }\n",
              "\n",
              "    .dataframe thead th {\n",
              "        text-align: right;\n",
              "    }\n",
              "</style>\n",
              "<table border=\"1\" class=\"dataframe\">\n",
              "  <thead>\n",
              "    <tr style=\"text-align: right;\">\n",
              "      <th></th>\n",
              "      <th>ax</th>\n",
              "      <th>ay</th>\n",
              "      <th>az</th>\n",
              "      <th>gx</th>\n",
              "      <th>gy</th>\n",
              "      <th>gz</th>\n",
              "    </tr>\n",
              "  </thead>\n",
              "  <tbody>\n",
              "    <tr>\n",
              "      <th>0</th>\n",
              "      <td>-0.430176</td>\n",
              "      <td>0.611572</td>\n",
              "      <td>-0.747803</td>\n",
              "      <td>-17.633587</td>\n",
              "      <td>-55.404579</td>\n",
              "      <td>4.854962</td>\n",
              "    </tr>\n",
              "    <tr>\n",
              "      <th>1</th>\n",
              "      <td>-0.600586</td>\n",
              "      <td>0.668945</td>\n",
              "      <td>-0.920898</td>\n",
              "      <td>10.916031</td>\n",
              "      <td>88.320610</td>\n",
              "      <td>-46.167938</td>\n",
              "    </tr>\n",
              "    <tr>\n",
              "      <th>2</th>\n",
              "      <td>-0.390137</td>\n",
              "      <td>0.568115</td>\n",
              "      <td>-0.972168</td>\n",
              "      <td>-23.702290</td>\n",
              "      <td>9.648855</td>\n",
              "      <td>-15.167939</td>\n",
              "    </tr>\n",
              "    <tr>\n",
              "      <th>3</th>\n",
              "      <td>-1.108887</td>\n",
              "      <td>0.886475</td>\n",
              "      <td>-0.582275</td>\n",
              "      <td>70.381676</td>\n",
              "      <td>-85.572517</td>\n",
              "      <td>47.000000</td>\n",
              "    </tr>\n",
              "    <tr>\n",
              "      <th>4</th>\n",
              "      <td>-0.442139</td>\n",
              "      <td>0.665039</td>\n",
              "      <td>-0.820068</td>\n",
              "      <td>44.259541</td>\n",
              "      <td>-87.793892</td>\n",
              "      <td>49.152672</td>\n",
              "    </tr>\n",
              "  </tbody>\n",
              "</table>\n",
              "</div>\n",
              "      <button class=\"colab-df-convert\" onclick=\"convertToInteractive('df-6f157d22-30e5-4372-aa72-54c341e04dab')\"\n",
              "              title=\"Convert this dataframe to an interactive table.\"\n",
              "              style=\"display:none;\">\n",
              "        \n",
              "  <svg xmlns=\"http://www.w3.org/2000/svg\" height=\"24px\"viewBox=\"0 0 24 24\"\n",
              "       width=\"24px\">\n",
              "    <path d=\"M0 0h24v24H0V0z\" fill=\"none\"/>\n",
              "    <path d=\"M18.56 5.44l.94 2.06.94-2.06 2.06-.94-2.06-.94-.94-2.06-.94 2.06-2.06.94zm-11 1L8.5 8.5l.94-2.06 2.06-.94-2.06-.94L8.5 2.5l-.94 2.06-2.06.94zm10 10l.94 2.06.94-2.06 2.06-.94-2.06-.94-.94-2.06-.94 2.06-2.06.94z\"/><path d=\"M17.41 7.96l-1.37-1.37c-.4-.4-.92-.59-1.43-.59-.52 0-1.04.2-1.43.59L10.3 9.45l-7.72 7.72c-.78.78-.78 2.05 0 2.83L4 21.41c.39.39.9.59 1.41.59.51 0 1.02-.2 1.41-.59l7.78-7.78 2.81-2.81c.8-.78.8-2.07 0-2.86zM5.41 20L4 18.59l7.72-7.72 1.47 1.35L5.41 20z\"/>\n",
              "  </svg>\n",
              "      </button>\n",
              "      \n",
              "  <style>\n",
              "    .colab-df-container {\n",
              "      display:flex;\n",
              "      flex-wrap:wrap;\n",
              "      gap: 12px;\n",
              "    }\n",
              "\n",
              "    .colab-df-convert {\n",
              "      background-color: #E8F0FE;\n",
              "      border: none;\n",
              "      border-radius: 50%;\n",
              "      cursor: pointer;\n",
              "      display: none;\n",
              "      fill: #1967D2;\n",
              "      height: 32px;\n",
              "      padding: 0 0 0 0;\n",
              "      width: 32px;\n",
              "    }\n",
              "\n",
              "    .colab-df-convert:hover {\n",
              "      background-color: #E2EBFA;\n",
              "      box-shadow: 0px 1px 2px rgba(60, 64, 67, 0.3), 0px 1px 3px 1px rgba(60, 64, 67, 0.15);\n",
              "      fill: #174EA6;\n",
              "    }\n",
              "\n",
              "    [theme=dark] .colab-df-convert {\n",
              "      background-color: #3B4455;\n",
              "      fill: #D2E3FC;\n",
              "    }\n",
              "\n",
              "    [theme=dark] .colab-df-convert:hover {\n",
              "      background-color: #434B5C;\n",
              "      box-shadow: 0px 1px 3px 1px rgba(0, 0, 0, 0.15);\n",
              "      filter: drop-shadow(0px 1px 2px rgba(0, 0, 0, 0.3));\n",
              "      fill: #FFFFFF;\n",
              "    }\n",
              "  </style>\n",
              "\n",
              "      <script>\n",
              "        const buttonEl =\n",
              "          document.querySelector('#df-6f157d22-30e5-4372-aa72-54c341e04dab button.colab-df-convert');\n",
              "        buttonEl.style.display =\n",
              "          google.colab.kernel.accessAllowed ? 'block' : 'none';\n",
              "\n",
              "        async function convertToInteractive(key) {\n",
              "          const element = document.querySelector('#df-6f157d22-30e5-4372-aa72-54c341e04dab');\n",
              "          const dataTable =\n",
              "            await google.colab.kernel.invokeFunction('convertToInteractive',\n",
              "                                                     [key], {});\n",
              "          if (!dataTable) return;\n",
              "\n",
              "          const docLinkHtml = 'Like what you see? Visit the ' +\n",
              "            '<a target=\"_blank\" href=https://colab.research.google.com/notebooks/data_table.ipynb>data table notebook</a>'\n",
              "            + ' to learn more about interactive tables.';\n",
              "          element.innerHTML = '';\n",
              "          dataTable['output_type'] = 'display_data';\n",
              "          await google.colab.output.renderOutput(dataTable, element);\n",
              "          const docLink = document.createElement('div');\n",
              "          docLink.innerHTML = docLinkHtml;\n",
              "          element.appendChild(docLink);\n",
              "        }\n",
              "      </script>\n",
              "    </div>\n",
              "  </div>\n",
              "  "
            ]
          },
          "metadata": {},
          "execution_count": 46
        }
      ]
    },
    {
      "cell_type": "code",
      "source": [
        "from imblearn.combine import SMOTETomek\n",
        "smk = SMOTETomek(random_state = 42)"
      ],
      "metadata": {
        "id": "IFZ255UE6il-"
      },
      "execution_count": null,
      "outputs": []
    },
    {
      "cell_type": "code",
      "source": [
        "# resampling th data\n",
        "X_resampled , Y_resampled = smk.fit_resample(X, Y)"
      ],
      "metadata": {
        "id": "TU4mpI5D7gaq"
      },
      "execution_count": null,
      "outputs": []
    },
    {
      "cell_type": "code",
      "source": [
        "Y_resampled.value_counts() #data is now balanced"
      ],
      "metadata": {
        "colab": {
          "base_uri": "https://localhost:8080/"
        },
        "id": "NeFMuwlU73o_",
        "outputId": "9232659e-fb45-4a28-ac63-e045f41e235f"
      },
      "execution_count": null,
      "outputs": [
        {
          "output_type": "execute_result",
          "data": {
            "text/plain": [
              "3    7935\n",
              "2    7850\n",
              "4    7830\n",
              "1    7696\n",
              "5    7483\n",
              "0    7340\n",
              "Name: mlid, dtype: int64"
            ]
          },
          "metadata": {},
          "execution_count": 49
        }
      ]
    },
    {
      "cell_type": "code",
      "source": [
        "# Splitting the data into training and testing set\n",
        "from sklearn.model_selection import train_test_split\n",
        "X_train, X_test, Y_train, Y_test = train_test_split(X_resampled,Y_resampled, test_size=0.2, random_state=0)"
      ],
      "metadata": {
        "id": "SErwiTrF8Gd8"
      },
      "execution_count": null,
      "outputs": []
    },
    {
      "cell_type": "code",
      "source": [
        "import tensorflow as tf\n",
        "from tensorflow.keras.models import Sequential\n",
        "from tensorflow.keras.layers import Dense\n",
        "from tensorflow.keras.utils import to_categorical"
      ],
      "metadata": {
        "id": "3OlgCcKw9Oph"
      },
      "execution_count": null,
      "outputs": []
    },
    {
      "cell_type": "code",
      "source": [
        "# Convert the labels to one-hot encoded vectors\n",
        "num_classes = 6 #number of unique classes\n",
        "y_train_encoded = to_categorical(Y_train, num_classes = num_classes)\n",
        "y_test_encoded = to_categorical(Y_test, num_classes = num_classes)"
      ],
      "metadata": {
        "id": "Bdc84kl7_Rpf"
      },
      "execution_count": null,
      "outputs": []
    },
    {
      "cell_type": "code",
      "source": [
        "y_train_encoded"
      ],
      "metadata": {
        "colab": {
          "base_uri": "https://localhost:8080/"
        },
        "id": "kC9mXWEp_swz",
        "outputId": "d2e31c10-5ceb-4997-c79b-05f8f96c6a5d"
      },
      "execution_count": null,
      "outputs": [
        {
          "output_type": "execute_result",
          "data": {
            "text/plain": [
              "array([[1., 0., 0., 0., 0., 0.],\n",
              "       [0., 0., 0., 1., 0., 0.],\n",
              "       [1., 0., 0., 0., 0., 0.],\n",
              "       ...,\n",
              "       [0., 0., 0., 0., 1., 0.],\n",
              "       [0., 0., 0., 0., 0., 1.],\n",
              "       [0., 0., 0., 0., 0., 1.]], dtype=float32)"
            ]
          },
          "metadata": {},
          "execution_count": 53
        }
      ]
    },
    {
      "cell_type": "code",
      "source": [
        "# Define the architecture of the ANN model\n",
        "model = Sequential()\n",
        "model.add(Dense(64, activation = 'relu')) # input_dim represents the number of input features\n",
        "model.add(Dense(64, activation = 'relu'))\n",
        "model.add(Dense(num_classes, activation = 'softmax'))   # Output layer with softmax activation for multiclass classification"
      ],
      "metadata": {
        "id": "RPgk5C2y_67H"
      },
      "execution_count": null,
      "outputs": []
    },
    {
      "cell_type": "code",
      "source": [
        "model.compile(loss = 'categorical_crossentropy', optimizer = 'adam', metrics = ['accuracy'])"
      ],
      "metadata": {
        "id": "UeybJG63A2YW"
      },
      "execution_count": null,
      "outputs": []
    },
    {
      "cell_type": "code",
      "source": [
        "model_history = model.fit(X_train, y_train_encoded, epochs = 100, batch_size = 32)"
      ],
      "metadata": {
        "colab": {
          "base_uri": "https://localhost:8080/"
        },
        "id": "ehMjkRonBW5f",
        "outputId": "57b81586-6a1e-4891-9456-eae068120d9c"
      },
      "execution_count": null,
      "outputs": [
        {
          "output_type": "stream",
          "name": "stdout",
          "text": [
            "Epoch 1/100\n",
            "1154/1154 [==============================] - 5s 3ms/step - loss: 1.1903 - accuracy: 0.5639\n",
            "Epoch 2/100\n",
            "1154/1154 [==============================] - 3s 3ms/step - loss: 0.8023 - accuracy: 0.6979\n",
            "Epoch 3/100\n",
            "1154/1154 [==============================] - 3s 3ms/step - loss: 0.6756 - accuracy: 0.7500\n",
            "Epoch 4/100\n",
            "1154/1154 [==============================] - 4s 3ms/step - loss: 0.5989 - accuracy: 0.7796\n",
            "Epoch 5/100\n",
            "1154/1154 [==============================] - 3s 3ms/step - loss: 0.5640 - accuracy: 0.7947\n",
            "Epoch 6/100\n",
            "1154/1154 [==============================] - 3s 3ms/step - loss: 0.5396 - accuracy: 0.8022\n",
            "Epoch 7/100\n",
            "1154/1154 [==============================] - 3s 3ms/step - loss: 0.5214 - accuracy: 0.8091\n",
            "Epoch 8/100\n",
            "1154/1154 [==============================] - 4s 3ms/step - loss: 0.5075 - accuracy: 0.8137\n",
            "Epoch 9/100\n",
            "1154/1154 [==============================] - 3s 3ms/step - loss: 0.4954 - accuracy: 0.8182\n",
            "Epoch 10/100\n",
            "1154/1154 [==============================] - 3s 3ms/step - loss: 0.4819 - accuracy: 0.8221\n",
            "Epoch 11/100\n",
            "1154/1154 [==============================] - 4s 3ms/step - loss: 0.4693 - accuracy: 0.8282\n",
            "Epoch 12/100\n",
            "1154/1154 [==============================] - 3s 3ms/step - loss: 0.4603 - accuracy: 0.8304\n",
            "Epoch 13/100\n",
            "1154/1154 [==============================] - 3s 3ms/step - loss: 0.4496 - accuracy: 0.8350\n",
            "Epoch 14/100\n",
            "1154/1154 [==============================] - 4s 3ms/step - loss: 0.4392 - accuracy: 0.8394\n",
            "Epoch 15/100\n",
            "1154/1154 [==============================] - 4s 3ms/step - loss: 0.4341 - accuracy: 0.8400\n",
            "Epoch 16/100\n",
            "1154/1154 [==============================] - 3s 3ms/step - loss: 0.4275 - accuracy: 0.8429\n",
            "Epoch 17/100\n",
            "1154/1154 [==============================] - 3s 3ms/step - loss: 0.4210 - accuracy: 0.8423\n",
            "Epoch 18/100\n",
            "1154/1154 [==============================] - 4s 4ms/step - loss: 0.4142 - accuracy: 0.8459\n",
            "Epoch 19/100\n",
            "1154/1154 [==============================] - 3s 3ms/step - loss: 0.4107 - accuracy: 0.8468\n",
            "Epoch 20/100\n",
            "1154/1154 [==============================] - 3s 3ms/step - loss: 0.4050 - accuracy: 0.8495\n",
            "Epoch 21/100\n",
            "1154/1154 [==============================] - 4s 3ms/step - loss: 0.3992 - accuracy: 0.8502\n",
            "Epoch 22/100\n",
            "1154/1154 [==============================] - 4s 3ms/step - loss: 0.3964 - accuracy: 0.8521\n",
            "Epoch 23/100\n",
            "1154/1154 [==============================] - 3s 3ms/step - loss: 0.3926 - accuracy: 0.8522\n",
            "Epoch 24/100\n",
            "1154/1154 [==============================] - 3s 3ms/step - loss: 0.3906 - accuracy: 0.8539\n",
            "Epoch 25/100\n",
            "1154/1154 [==============================] - 4s 4ms/step - loss: 0.3875 - accuracy: 0.8540\n",
            "Epoch 26/100\n",
            "1154/1154 [==============================] - 3s 3ms/step - loss: 0.3837 - accuracy: 0.8558\n",
            "Epoch 27/100\n",
            "1154/1154 [==============================] - 3s 3ms/step - loss: 0.3801 - accuracy: 0.8562\n",
            "Epoch 28/100\n",
            "1154/1154 [==============================] - 4s 3ms/step - loss: 0.3790 - accuracy: 0.8580\n",
            "Epoch 29/100\n",
            "1154/1154 [==============================] - 3s 3ms/step - loss: 0.3757 - accuracy: 0.8586\n",
            "Epoch 30/100\n",
            "1154/1154 [==============================] - 3s 3ms/step - loss: 0.3727 - accuracy: 0.8593\n",
            "Epoch 31/100\n",
            "1154/1154 [==============================] - 3s 3ms/step - loss: 0.3697 - accuracy: 0.8600\n",
            "Epoch 32/100\n",
            "1154/1154 [==============================] - 4s 4ms/step - loss: 0.3700 - accuracy: 0.8605\n",
            "Epoch 33/100\n",
            "1154/1154 [==============================] - 3s 3ms/step - loss: 0.3663 - accuracy: 0.8617\n",
            "Epoch 34/100\n",
            "1154/1154 [==============================] - 3s 3ms/step - loss: 0.3633 - accuracy: 0.8630\n",
            "Epoch 35/100\n",
            "1154/1154 [==============================] - 4s 4ms/step - loss: 0.3622 - accuracy: 0.8639\n",
            "Epoch 36/100\n",
            "1154/1154 [==============================] - 3s 3ms/step - loss: 0.3600 - accuracy: 0.8644\n",
            "Epoch 37/100\n",
            "1154/1154 [==============================] - 3s 3ms/step - loss: 0.3585 - accuracy: 0.8658\n",
            "Epoch 38/100\n",
            "1154/1154 [==============================] - 3s 3ms/step - loss: 0.3558 - accuracy: 0.8659\n",
            "Epoch 39/100\n",
            "1154/1154 [==============================] - 4s 3ms/step - loss: 0.3551 - accuracy: 0.8672\n",
            "Epoch 40/100\n",
            "1154/1154 [==============================] - 3s 3ms/step - loss: 0.3531 - accuracy: 0.8675\n",
            "Epoch 41/100\n",
            "1154/1154 [==============================] - 3s 3ms/step - loss: 0.3531 - accuracy: 0.8673\n",
            "Epoch 42/100\n",
            "1154/1154 [==============================] - 4s 4ms/step - loss: 0.3519 - accuracy: 0.8672\n",
            "Epoch 43/100\n",
            "1154/1154 [==============================] - 3s 3ms/step - loss: 0.3462 - accuracy: 0.8697\n",
            "Epoch 44/100\n",
            "1154/1154 [==============================] - 3s 3ms/step - loss: 0.3473 - accuracy: 0.8702\n",
            "Epoch 45/100\n",
            "1154/1154 [==============================] - 4s 3ms/step - loss: 0.3467 - accuracy: 0.8691\n",
            "Epoch 46/100\n",
            "1154/1154 [==============================] - 4s 3ms/step - loss: 0.3453 - accuracy: 0.8703\n",
            "Epoch 47/100\n",
            "1154/1154 [==============================] - 3s 3ms/step - loss: 0.3422 - accuracy: 0.8720\n",
            "Epoch 48/100\n",
            "1154/1154 [==============================] - 3s 3ms/step - loss: 0.3404 - accuracy: 0.8712\n",
            "Epoch 49/100\n",
            "1154/1154 [==============================] - 4s 4ms/step - loss: 0.3396 - accuracy: 0.8715\n",
            "Epoch 50/100\n",
            "1154/1154 [==============================] - 3s 3ms/step - loss: 0.3392 - accuracy: 0.8736\n",
            "Epoch 51/100\n",
            "1154/1154 [==============================] - 3s 3ms/step - loss: 0.3362 - accuracy: 0.8758\n",
            "Epoch 52/100\n",
            "1154/1154 [==============================] - 4s 3ms/step - loss: 0.3330 - accuracy: 0.8756\n",
            "Epoch 53/100\n",
            "1154/1154 [==============================] - 4s 3ms/step - loss: 0.3317 - accuracy: 0.8747\n",
            "Epoch 54/100\n",
            "1154/1154 [==============================] - 3s 3ms/step - loss: 0.3344 - accuracy: 0.8748\n",
            "Epoch 55/100\n",
            "1154/1154 [==============================] - 3s 3ms/step - loss: 0.3303 - accuracy: 0.8770\n",
            "Epoch 56/100\n",
            "1154/1154 [==============================] - 4s 4ms/step - loss: 0.3305 - accuracy: 0.8756\n",
            "Epoch 57/100\n",
            "1154/1154 [==============================] - 3s 3ms/step - loss: 0.3284 - accuracy: 0.8761\n",
            "Epoch 58/100\n",
            "1154/1154 [==============================] - 3s 3ms/step - loss: 0.3287 - accuracy: 0.8768\n",
            "Epoch 59/100\n",
            "1154/1154 [==============================] - 4s 3ms/step - loss: 0.3253 - accuracy: 0.8780\n",
            "Epoch 60/100\n",
            "1154/1154 [==============================] - 4s 3ms/step - loss: 0.3254 - accuracy: 0.8789\n",
            "Epoch 61/100\n",
            "1154/1154 [==============================] - 3s 3ms/step - loss: 0.3236 - accuracy: 0.8784\n",
            "Epoch 62/100\n",
            "1154/1154 [==============================] - 3s 3ms/step - loss: 0.3254 - accuracy: 0.8757\n",
            "Epoch 63/100\n",
            "1154/1154 [==============================] - 4s 4ms/step - loss: 0.3224 - accuracy: 0.8789\n",
            "Epoch 64/100\n",
            "1154/1154 [==============================] - 3s 3ms/step - loss: 0.3216 - accuracy: 0.8785\n",
            "Epoch 65/100\n",
            "1154/1154 [==============================] - 4s 3ms/step - loss: 0.3227 - accuracy: 0.8800\n",
            "Epoch 66/100\n",
            "1154/1154 [==============================] - 4s 4ms/step - loss: 0.3197 - accuracy: 0.8798\n",
            "Epoch 67/100\n",
            "1154/1154 [==============================] - 3s 3ms/step - loss: 0.3177 - accuracy: 0.8803\n",
            "Epoch 68/100\n",
            "1154/1154 [==============================] - 3s 3ms/step - loss: 0.3164 - accuracy: 0.8798\n",
            "Epoch 69/100\n",
            "1154/1154 [==============================] - 4s 3ms/step - loss: 0.3189 - accuracy: 0.8804\n",
            "Epoch 70/100\n",
            "1154/1154 [==============================] - 4s 3ms/step - loss: 0.3165 - accuracy: 0.8811\n",
            "Epoch 71/100\n",
            "1154/1154 [==============================] - 3s 3ms/step - loss: 0.3186 - accuracy: 0.8800\n",
            "Epoch 72/100\n",
            "1154/1154 [==============================] - 3s 3ms/step - loss: 0.3123 - accuracy: 0.8809\n",
            "Epoch 73/100\n",
            "1154/1154 [==============================] - 4s 4ms/step - loss: 0.3147 - accuracy: 0.8818\n",
            "Epoch 74/100\n",
            "1154/1154 [==============================] - 3s 3ms/step - loss: 0.3115 - accuracy: 0.8823\n",
            "Epoch 75/100\n",
            "1154/1154 [==============================] - 3s 3ms/step - loss: 0.3127 - accuracy: 0.8811\n",
            "Epoch 76/100\n",
            "1154/1154 [==============================] - 4s 3ms/step - loss: 0.3109 - accuracy: 0.8822\n",
            "Epoch 77/100\n",
            "1154/1154 [==============================] - 4s 3ms/step - loss: 0.3089 - accuracy: 0.8847\n",
            "Epoch 78/100\n",
            "1154/1154 [==============================] - 3s 3ms/step - loss: 0.3100 - accuracy: 0.8827\n",
            "Epoch 79/100\n",
            "1154/1154 [==============================] - 3s 3ms/step - loss: 0.3078 - accuracy: 0.8841\n",
            "Epoch 80/100\n",
            "1154/1154 [==============================] - 4s 4ms/step - loss: 0.3072 - accuracy: 0.8831\n",
            "Epoch 81/100\n",
            "1154/1154 [==============================] - 3s 3ms/step - loss: 0.3076 - accuracy: 0.8854\n",
            "Epoch 82/100\n",
            "1154/1154 [==============================] - 3s 3ms/step - loss: 0.3072 - accuracy: 0.8832\n",
            "Epoch 83/100\n",
            "1154/1154 [==============================] - 4s 4ms/step - loss: 0.3052 - accuracy: 0.8851\n",
            "Epoch 84/100\n",
            "1154/1154 [==============================] - 3s 3ms/step - loss: 0.3069 - accuracy: 0.8850\n",
            "Epoch 85/100\n",
            "1154/1154 [==============================] - 3s 3ms/step - loss: 0.3046 - accuracy: 0.8848\n",
            "Epoch 86/100\n",
            "1154/1154 [==============================] - 4s 3ms/step - loss: 0.3035 - accuracy: 0.8847\n",
            "Epoch 87/100\n",
            "1154/1154 [==============================] - 4s 3ms/step - loss: 0.3035 - accuracy: 0.8865\n",
            "Epoch 88/100\n",
            "1154/1154 [==============================] - 3s 3ms/step - loss: 0.3023 - accuracy: 0.8855\n",
            "Epoch 89/100\n",
            "1154/1154 [==============================] - 3s 3ms/step - loss: 0.3037 - accuracy: 0.8863\n",
            "Epoch 90/100\n",
            "1154/1154 [==============================] - 4s 4ms/step - loss: 0.3030 - accuracy: 0.8862\n",
            "Epoch 91/100\n",
            "1154/1154 [==============================] - 3s 3ms/step - loss: 0.3023 - accuracy: 0.8858\n",
            "Epoch 92/100\n",
            "1154/1154 [==============================] - 3s 3ms/step - loss: 0.2991 - accuracy: 0.8867\n",
            "Epoch 93/100\n",
            "1154/1154 [==============================] - 4s 3ms/step - loss: 0.2984 - accuracy: 0.8875\n",
            "Epoch 94/100\n",
            "1154/1154 [==============================] - 4s 3ms/step - loss: 0.2986 - accuracy: 0.8870\n",
            "Epoch 95/100\n",
            "1154/1154 [==============================] - 3s 3ms/step - loss: 0.2993 - accuracy: 0.8858\n",
            "Epoch 96/100\n",
            "1154/1154 [==============================] - 3s 3ms/step - loss: 0.2966 - accuracy: 0.8878\n",
            "Epoch 97/100\n",
            "1154/1154 [==============================] - 4s 4ms/step - loss: 0.2975 - accuracy: 0.8870\n",
            "Epoch 98/100\n",
            "1154/1154 [==============================] - 3s 3ms/step - loss: 0.2957 - accuracy: 0.8882\n",
            "Epoch 99/100\n",
            "1154/1154 [==============================] - 3s 3ms/step - loss: 0.2957 - accuracy: 0.8877\n",
            "Epoch 100/100\n",
            "1154/1154 [==============================] - 4s 3ms/step - loss: 0.2944 - accuracy: 0.8887\n"
          ]
        }
      ]
    },
    {
      "cell_type": "code",
      "source": [
        "print(model_history.history.keys())"
      ],
      "metadata": {
        "colab": {
          "base_uri": "https://localhost:8080/"
        },
        "id": "12aVryC_EbF0",
        "outputId": "4fc6dc80-8cfb-47ed-9772-753dd80663d4"
      },
      "execution_count": null,
      "outputs": [
        {
          "output_type": "stream",
          "name": "stdout",
          "text": [
            "dict_keys(['loss', 'accuracy'])\n"
          ]
        }
      ]
    },
    {
      "cell_type": "code",
      "source": [
        "# Evaluate the model\n",
        "loss , accuracy = model.evaluate(X_test, y_test_encoded)"
      ],
      "metadata": {
        "colab": {
          "base_uri": "https://localhost:8080/"
        },
        "id": "0cuaNn_7Eff3",
        "outputId": "0469bacc-c65e-4cbc-e6e6-7dacce4578da"
      },
      "execution_count": null,
      "outputs": [
        {
          "output_type": "stream",
          "name": "stdout",
          "text": [
            "289/289 [==============================] - 1s 2ms/step - loss: 0.3645 - accuracy: 0.8708\n"
          ]
        }
      ]
    },
    {
      "cell_type": "code",
      "source": [
        "model.save('/content/my_model')"
      ],
      "metadata": {
        "colab": {
          "base_uri": "https://localhost:8080/"
        },
        "id": "HQmoCjhy6-BL",
        "outputId": "55c9e92a-acf4-46ea-cc56-ca49ce1583da"
      },
      "execution_count": null,
      "outputs": [
        {
          "output_type": "stream",
          "name": "stderr",
          "text": [
            "WARNING:absl:Found untraced functions such as _update_step_xla while saving (showing 1 of 1). These functions will not be directly callable after loading.\n"
          ]
        }
      ]
    },
    {
      "cell_type": "code",
      "source": [
        "!ls"
      ],
      "metadata": {
        "colab": {
          "base_uri": "https://localhost:8080/"
        },
        "id": "aqrvz7yP7A34",
        "outputId": "e36e013e-cffb-422e-800c-4883cafcaf08"
      },
      "execution_count": null,
      "outputs": [
        {
          "output_type": "stream",
          "name": "stdout",
          "text": [
            "completeBhageeraPayload.csv  my_model  sample_data\n"
          ]
        }
      ]
    },
    {
      "cell_type": "code",
      "source": [
        "converter = tf.lite.TFLiteConverter.from_saved_model('/content/my_model')"
      ],
      "metadata": {
        "id": "DWMAZL2W7Pnw"
      },
      "execution_count": null,
      "outputs": []
    },
    {
      "cell_type": "code",
      "source": [
        "converter.target_spec.supported_types = [tf.float32]"
      ],
      "metadata": {
        "id": "SANupw3l8khf"
      },
      "execution_count": null,
      "outputs": []
    },
    {
      "cell_type": "code",
      "source": [
        "converter.target_spec.supported_ops = [\n",
        "  tf.lite.OpsSet.TFLITE_BUILTINS, # enable TensorFlow Lite ops.\n",
        "  tf.lite.OpsSet.SELECT_TF_OPS # enable TensorFlow ops.\n",
        "]"
      ],
      "metadata": {
        "id": "kDHjfVWXChSr"
      },
      "execution_count": null,
      "outputs": []
    },
    {
      "cell_type": "code",
      "source": [
        "tflite_model = converter.convert()"
      ],
      "metadata": {
        "id": "ABcg3-Lc7nWG"
      },
      "execution_count": null,
      "outputs": []
    },
    {
      "cell_type": "code",
      "source": [
        "open(\"converted_model.tflite\", \"wb\").write(tflite_model)"
      ],
      "metadata": {
        "colab": {
          "base_uri": "https://localhost:8080/"
        },
        "id": "p7LQQs0LCuGR",
        "outputId": "fa7ef23d-14d7-4d86-88e0-0ac42b9cffe0"
      },
      "execution_count": null,
      "outputs": [
        {
          "output_type": "execute_result",
          "data": {
            "text/plain": [
              "22420"
            ]
          },
          "metadata": {},
          "execution_count": 78
        }
      ]
    },
    {
      "cell_type": "code",
      "source": [
        "# Load the converted TFLite model\n",
        "interpreter = tf.lite.Interpreter(model_path=\"converted_model.tflite\")\n",
        "try:\n",
        "    interpreter.allocate_tensors()\n",
        "    print(\"Model converted to TFLite successfully!\")\n",
        "except ValueError as e:\n",
        "    print(\"Error loading the TFLite model:\", e)"
      ],
      "metadata": {
        "colab": {
          "base_uri": "https://localhost:8080/"
        },
        "id": "SsuwMglgFlnS",
        "outputId": "d469c474-0325-4733-fc62-db356cb65fa2"
      },
      "execution_count": null,
      "outputs": [
        {
          "output_type": "stream",
          "name": "stdout",
          "text": [
            "Model converted to TFLite successfully!\n"
          ]
        }
      ]
    }
  ]
}
